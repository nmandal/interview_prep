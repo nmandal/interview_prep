{
 "cells": [
  {
   "cell_type": "code",
   "execution_count": 1,
   "metadata": {},
   "outputs": [
    {
     "name": "stdout",
     "output_type": "stream",
     "text": [
      "Writing smallest_difference.py\n"
     ]
    }
   ],
   "source": [
    "%%writefile smallest_difference.py\n",
    "# O(n log n + m log m) time | O(1) space\n",
    "def smallest_difference(array_one, array_two):\n",
    "    sorted(array_one)\n",
    "    sorted(array_two)\n",
    "    idx_one, idx_two = 0\n",
    "    current = float('inf')\n",
    "    smallest = float('inf')\n",
    "    smallest_pair = []\n",
    "    \n",
    "    while idx_one < len(array_one) and idx_two < len(array_two):\n",
    "        first = array_one[idx_one]\n",
    "        second = array_two[idx_two]\n",
    "        if first < second:\n",
    "            current = second - first\n",
    "            idx_one += 1\n",
    "        elif second < first:\n",
    "            current = first - second\n",
    "            idx_two += 1\n",
    "        else:\n",
    "            return [first, second]\n",
    "        if current < smallest:\n",
    "            current = smallest\n",
    "            smallest_pair = [first, second]\n",
    "    return smallest_pair"
   ]
  },
  {
   "cell_type": "code",
   "execution_count": null,
   "metadata": {},
   "outputs": [],
   "source": []
  }
 ],
 "metadata": {
  "kernelspec": {
   "display_name": "Python 3",
   "language": "python",
   "name": "python3"
  },
  "language_info": {
   "codemirror_mode": {
    "name": "ipython",
    "version": 3
   },
   "file_extension": ".py",
   "mimetype": "text/x-python",
   "name": "python",
   "nbconvert_exporter": "python",
   "pygments_lexer": "ipython3",
   "version": "3.7.0"
  }
 },
 "nbformat": 4,
 "nbformat_minor": 2
}
