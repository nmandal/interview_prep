{
 "cells": [
  {
   "cell_type": "code",
   "execution_count": 1,
   "metadata": {},
   "outputs": [
    {
     "name": "stdout",
     "output_type": "stream",
     "text": [
      "Writing remove_kth_node_from_end.py\n"
     ]
    }
   ],
   "source": [
    "%%writefile remove_kth_node_from_end.py\n",
    "# O(N) time | O(1) space\n",
    "def remove_kth_node_from_end(head, k):\n",
    "    first = head\n",
    "    second = head\n",
    "    for i in range(k):\n",
    "        first = first.next\n",
    "    if first is None:\n",
    "        head.value = head.next.value\n",
    "        head.next = head.next.next\n",
    "        return\n",
    "    while first.next is not None:\n",
    "        first = first.next\n",
    "        second = second.next\n",
    "    second.next = second.next.next\n",
    "    return head"
   ]
  },
  {
   "cell_type": "code",
   "execution_count": null,
   "metadata": {},
   "outputs": [],
   "source": []
  }
 ],
 "metadata": {
  "kernelspec": {
   "display_name": "Python 3",
   "language": "python",
   "name": "python3"
  },
  "language_info": {
   "codemirror_mode": {
    "name": "ipython",
    "version": 3
   },
   "file_extension": ".py",
   "mimetype": "text/x-python",
   "name": "python",
   "nbconvert_exporter": "python",
   "pygments_lexer": "ipython3",
   "version": "3.7.0"
  }
 },
 "nbformat": 4,
 "nbformat_minor": 2
}
