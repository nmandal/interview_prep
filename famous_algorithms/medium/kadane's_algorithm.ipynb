{
 "cells": [
  {
   "cell_type": "code",
   "execution_count": 2,
   "metadata": {},
   "outputs": [
    {
     "name": "stdout",
     "output_type": "stream",
     "text": [
      "Overwriting kadanes_algorithm.py\n"
     ]
    }
   ],
   "source": [
    "%%writefile kadanes_algorithm.py\n",
    "# O(N) time | O(1) space\n",
    "def kadanes_algorithm(array):\n",
    "    max_here = array[0]\n",
    "    best = array[0]\n",
    "    for i in range(1, len(array)):\n",
    "        max_here = max(array[i], max_here+array[i])\n",
    "        best = max(max_here, best)\n",
    "    return best"
   ]
  },
  {
   "cell_type": "code",
   "execution_count": null,
   "metadata": {},
   "outputs": [],
   "source": []
  }
 ],
 "metadata": {
  "kernelspec": {
   "display_name": "Python 3",
   "language": "python",
   "name": "python3"
  },
  "language_info": {
   "codemirror_mode": {
    "name": "ipython",
    "version": 3
   },
   "file_extension": ".py",
   "mimetype": "text/x-python",
   "name": "python",
   "nbconvert_exporter": "python",
   "pygments_lexer": "ipython3",
   "version": "3.7.0"
  }
 },
 "nbformat": 4,
 "nbformat_minor": 2
}
