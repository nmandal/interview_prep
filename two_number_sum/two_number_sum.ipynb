{
 "cells": [
  {
   "cell_type": "code",
   "execution_count": 14,
   "metadata": {},
   "outputs": [
    {
     "name": "stdout",
     "output_type": "stream",
     "text": [
      "Overwriting two_number_sum.py\n"
     ]
    }
   ],
   "source": [
    "%%writefile two_number_sum.py\n",
    "# Time: O(N) | Space: O(N)\n",
    "def two_number_sum(array, target_sum):\n",
    "    num_map = {}\n",
    "    for num in array:\n",
    "        potential_match = target_sum - num\n",
    "        if potential_match in num_map:\n",
    "            return sorted([potential_match, num])\n",
    "        num_map[num] = True\n",
    "    return []"
   ]
  },
  {
   "cell_type": "markdown",
   "metadata": {},
   "source": [
    "Complexity:\n",
    "    - Time: \n",
    "        - O(N) where N is the length of the array\n",
    "    - Space: \n",
    "        - O(N)"
   ]
  },
  {
   "cell_type": "markdown",
   "metadata": {},
   "source": [
    "Other Solutions:\n",
    "\n",
    "    1. Traverse with two for loops\n",
    "        - O(N^2) time, O(1) space\n",
    "    2. Sort array, left and right pointers\n",
    "        - O(N log N) time, O(1) space"
   ]
  },
  {
   "cell_type": "code",
   "execution_count": 10,
   "metadata": {},
   "outputs": [
    {
     "name": "stderr",
     "output_type": "stream",
     "text": [
      "E\n",
      "======================================================================\n",
      "ERROR: /Users/nicholasmandal/Library/Jupyter/runtime/kernel-2c5b1c5c-af3c-4430-b79d-cd88a1f0daed (unittest.loader._FailedTest)\n",
      "----------------------------------------------------------------------\n",
      "AttributeError: module '__main__' has no attribute '/Users/nicholasmandal/Library/Jupyter/runtime/kernel-2c5b1c5c-af3c-4430-b79d-cd88a1f0daed'\n",
      "\n",
      "----------------------------------------------------------------------\n",
      "Ran 1 test in 0.001s\n",
      "\n",
      "FAILED (errors=1)\n"
     ]
    },
    {
     "ename": "SystemExit",
     "evalue": "True",
     "output_type": "error",
     "traceback": [
      "An exception has occurred, use %tb to see the full traceback.\n",
      "\u001b[0;31mSystemExit\u001b[0m\u001b[0;31m:\u001b[0m True\n"
     ]
    },
    {
     "name": "stderr",
     "output_type": "stream",
     "text": [
      "/usr/local/lib/python3.7/site-packages/IPython/core/interactiveshell.py:3275: UserWarning: To exit: use 'exit', 'quit', or Ctrl-D.\n",
      "  warn(\"To exit: use 'exit', 'quit', or Ctrl-D.\", stacklevel=1)\n"
     ]
    }
   ],
   "source": [
    "import unittest\n",
    "\n",
    "class TestProgram(unittest.TestCase):\n",
    "    \n",
    "    def test_case_1(self):\n",
    "        self.assertEqual(twoNumberSum([4,6], 10), [4,6])\n",
    "        \n",
    "if __name__ == \"__main__\":\n",
    "    unittest.main()"
   ]
  },
  {
   "cell_type": "code",
   "execution_count": null,
   "metadata": {},
   "outputs": [],
   "source": []
  }
 ],
 "metadata": {
  "kernelspec": {
   "display_name": "Python 3",
   "language": "python",
   "name": "python3"
  },
  "language_info": {
   "codemirror_mode": {
    "name": "ipython",
    "version": 3
   },
   "file_extension": ".py",
   "mimetype": "text/x-python",
   "name": "python",
   "nbconvert_exporter": "python",
   "pygments_lexer": "ipython3",
   "version": "3.7.0"
  }
 },
 "nbformat": 4,
 "nbformat_minor": 2
}
