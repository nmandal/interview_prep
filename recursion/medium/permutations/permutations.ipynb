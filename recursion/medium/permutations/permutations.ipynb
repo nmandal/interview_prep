{
 "cells": [
  {
   "cell_type": "code",
   "execution_count": 2,
   "metadata": {},
   "outputs": [
    {
     "name": "stdout",
     "output_type": "stream",
     "text": [
      "Writing permutations_extra_space.py\n"
     ]
    }
   ],
   "source": [
    "%%writefile permutations_extra_space.py\n",
    "# Upper Bound: O(n^2*n!) time | O(n*n!) space\n",
    "# Roughly: O(n*n!) time | O(n*n!) space\n",
    "def permutations(arr):\n",
    "    if not len(arr):\n",
    "        return []\n",
    "    perms = []\n",
    "    _permutations(arr, [], perms)\n",
    "    return perms\n",
    "\n",
    "def _permutations(arr, curr_perm, perms):\n",
    "    if not len(arr):\n",
    "        perms.append(curr_perm)\n",
    "    else:\n",
    "        for i in range(len(arr)):\n",
    "            new_arr = arr[:i] + arr[i+1:]\n",
    "            new_perm = curr_perm + [array[i]]\n",
    "            _permutations(new_arr, new_perm, perms)"
   ]
  },
  {
   "cell_type": "code",
   "execution_count": 3,
   "metadata": {},
   "outputs": [
    {
     "name": "stdout",
     "output_type": "stream",
     "text": [
      "Writing permutations_in_place.py\n"
     ]
    }
   ],
   "source": [
    "%%writefile permutations_in_place.py\n",
    "# O(n*n!) time | O(n*n!) space\n",
    "def permutations(arr):\n",
    "    perms = []\n",
    "    _permutations(0, arr, perms)\n",
    "    return perms\n",
    "\n",
    "def _permutations(i, arr, perms):\n",
    "    if i == len(arr) - 1:\n",
    "        perms.append(arr)\n",
    "    else:\n",
    "        for j in range(i, len(arr)):\n",
    "            swap(arr, i, j)\n",
    "            _permutations(i+1, arr, perms)\n",
    "            swap(arr, i, j)      \n",
    "        \n",
    "def swap(arr, i, j):\n",
    "    arr[i], arr[j] = arr[j], arr[i]\n"
   ]
  },
  {
   "cell_type": "code",
   "execution_count": null,
   "metadata": {},
   "outputs": [],
   "source": []
  }
 ],
 "metadata": {
  "kernelspec": {
   "display_name": "Python 3",
   "language": "python",
   "name": "python3"
  },
  "language_info": {
   "codemirror_mode": {
    "name": "ipython",
    "version": 3
   },
   "file_extension": ".py",
   "mimetype": "text/x-python",
   "name": "python",
   "nbconvert_exporter": "python",
   "pygments_lexer": "ipython3",
   "version": "3.7.0"
  }
 },
 "nbformat": 4,
 "nbformat_minor": 2
}
