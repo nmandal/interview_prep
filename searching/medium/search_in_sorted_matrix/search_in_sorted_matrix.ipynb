{
 "cells": [
  {
   "cell_type": "code",
   "execution_count": 6,
   "metadata": {},
   "outputs": [
    {
     "name": "stdout",
     "output_type": "stream",
     "text": [
      "Writing search_in_sorted_matrix.py\n"
     ]
    }
   ],
   "source": [
    "%%writefile search_in_sorted_matrix.py\n",
    "# O(n+m) time | O(1) space\n",
    "def search_in_sorted_matrix(matrix, target):\n",
    "    row = 0\n",
    "    col = len(matrix[0]) - 1\n",
    "    while row < len(matrix) and col >= 0:\n",
    "        if matrix[row][col] > target:\n",
    "            col -= 1\n",
    "        elif matrix[row][col] < target:\n",
    "            row += 1\n",
    "        else:\n",
    "            return [row, col]\n",
    "    return [-1, -1]"
   ]
  },
  {
   "cell_type": "code",
   "execution_count": null,
   "metadata": {},
   "outputs": [],
   "source": []
  }
 ],
 "metadata": {
  "kernelspec": {
   "display_name": "Python 3",
   "language": "python",
   "name": "python3"
  },
  "language_info": {
   "codemirror_mode": {
    "name": "ipython",
    "version": 3
   },
   "file_extension": ".py",
   "mimetype": "text/x-python",
   "name": "python",
   "nbconvert_exporter": "python",
   "pygments_lexer": "ipython3",
   "version": "3.7.0"
  }
 },
 "nbformat": 4,
 "nbformat_minor": 2
}
