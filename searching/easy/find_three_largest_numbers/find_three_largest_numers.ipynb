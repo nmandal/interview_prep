{
 "cells": [
  {
   "cell_type": "code",
   "execution_count": 3,
   "metadata": {},
   "outputs": [
    {
     "name": "stdout",
     "output_type": "stream",
     "text": [
      "Overwriting find_three_largest_numbers.py\n"
     ]
    }
   ],
   "source": [
    "%%writefile find_three_largest_numbers.py\n",
    "# O(N) time | O(1) space\n",
    "def find_three_largest_numbers(array):\n",
    "    three_largest = [float('-inf'),float('-inf'),float('-inf')]\n",
    "    for num in array:\n",
    "        update_largest(three_largest, num)\n",
    "    return three_largest\n",
    "\n",
    "def update_largest(three_largest, num):\n",
    "        if num > three_largest[2]:\n",
    "            shift_and_update(three_largest, num, 2)\n",
    "        elif num > three_largest[1]:\n",
    "            shift_and_update(three_largest, num, 1)\n",
    "        elif num > three_largest[0]:\n",
    "            shift_and_update(three_largest, num, 0)\n",
    "\n",
    "def shift_and_update(array, num, idx):\n",
    "    for i in range(idx + 1):\n",
    "        if i == idx:\n",
    "            array[i] = num\n",
    "        else:\n",
    "            array[i] = array[i+1]"
   ]
  },
  {
   "cell_type": "code",
   "execution_count": null,
   "metadata": {},
   "outputs": [],
   "source": []
  }
 ],
 "metadata": {
  "kernelspec": {
   "display_name": "Python 3",
   "language": "python",
   "name": "python3"
  },
  "language_info": {
   "codemirror_mode": {
    "name": "ipython",
    "version": 3
   },
   "file_extension": ".py",
   "mimetype": "text/x-python",
   "name": "python",
   "nbconvert_exporter": "python",
   "pygments_lexer": "ipython3",
   "version": "3.7.0"
  }
 },
 "nbformat": 4,
 "nbformat_minor": 2
}
