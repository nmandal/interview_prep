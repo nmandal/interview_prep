{
 "cells": [
  {
   "cell_type": "code",
   "execution_count": 1,
   "metadata": {},
   "outputs": [
    {
     "name": "stdout",
     "output_type": "stream",
     "text": [
      "Writing num_ways_to_traverse_2D_array.py\n"
     ]
    }
   ],
   "source": [
    "%%writefile num_ways_to_traverse_2D_array.py\n",
    "# O(nm) time | O(nm) space\n",
    "def number_of_ways(n, m):\n",
    "    def compute_ways_to_xy(x, y):\n",
    "        if x == y == 0:\n",
    "            return 1\n",
    "        \n",
    "        if number_of_ways[x][y] == 0:\n",
    "            ways_top = 0 if x == 0 else compute_ways_to_xy(x-1, y)\n",
    "            ways_left = 0 if y == 0 else compute_ways_to_xy(x, y-1)\n",
    "            number_of_ways[x][y] = ways_left + ways_left\n",
    "            return number_of_ways[x][y]\n",
    "        \n",
    "    number_of_ways = [[0] * m for _ in range(n)]\n",
    "    return compute_ways_to_xy(n-1, m-1)\n"
   ]
  },
  {
   "cell_type": "code",
   "execution_count": null,
   "metadata": {},
   "outputs": [],
   "source": []
  }
 ],
 "metadata": {
  "kernelspec": {
   "display_name": "Python 3",
   "language": "python",
   "name": "python3"
  },
  "language_info": {
   "codemirror_mode": {
    "name": "ipython",
    "version": 3
   },
   "file_extension": ".py",
   "mimetype": "text/x-python",
   "name": "python",
   "nbconvert_exporter": "python",
   "pygments_lexer": "ipython3",
   "version": "3.7.0"
  }
 },
 "nbformat": 4,
 "nbformat_minor": 2
}
