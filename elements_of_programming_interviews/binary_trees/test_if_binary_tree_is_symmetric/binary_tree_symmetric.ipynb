{
 "cells": [
  {
   "cell_type": "code",
   "execution_count": null,
   "metadata": {},
   "outputs": [],
   "source": [
    "%%writefile is_symmetric.py\n",
    "# O(n) time | O(h) space\n",
    "def is_symmetric(tree):\n",
    "    def check_symmetric(subtree_1, subtree_2):\n",
    "        if not subtree_1 and not subtree_2:\n",
    "            return True\n",
    "        elif subtree_1 and subtree_2:\n",
    "            return (subtree_1.data == subtree_2.data and check_symmetric(subtree_1.left, subtree_2.right) and check_symmetric(subtree_1.right, subtree_2.left))\n",
    "        # One subtree is empty, and the other is not\n",
    "        return False\n",
    "    return not tree or check_symmetric(tree.left, tree.right)\n"
   ]
  }
 ],
 "metadata": {
  "kernelspec": {
   "display_name": "Python 3",
   "language": "python",
   "name": "python3"
  },
  "language_info": {
   "codemirror_mode": {
    "name": "ipython",
    "version": 3
   },
   "file_extension": ".py",
   "mimetype": "text/x-python",
   "name": "python",
   "nbconvert_exporter": "python",
   "pygments_lexer": "ipython3",
   "version": "3.7.0"
  }
 },
 "nbformat": 4,
 "nbformat_minor": 2
}
