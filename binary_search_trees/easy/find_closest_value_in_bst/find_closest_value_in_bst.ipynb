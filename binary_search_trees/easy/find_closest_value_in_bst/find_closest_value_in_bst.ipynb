{
 "cells": [
  {
   "cell_type": "code",
   "execution_count": 1,
   "metadata": {},
   "outputs": [
    {
     "name": "stdout",
     "output_type": "stream",
     "text": [
      "Writing find_closest_value_in_bst.py\n"
     ]
    }
   ],
   "source": [
    "%%writefile find_closest_value_in_bst.py\n",
    "# Iteratively \n",
    "#   Time: O(log N) average, O(N) worst | Space: O(1)\n",
    "def find_closest_value_in_bst(tree, target):\n",
    "    closest = float('inf')\n",
    "    curr_node = tree\n",
    "    while curr_node is not None:\n",
    "        if abs(target - closest) > abs(target - curr_node.value):\n",
    "            closest = curr_node.value\n",
    "        if target < curr_node.value:\n",
    "            curr_node = curr_node.left\n",
    "        elif target > curr_node.value\n",
    "            curr_node = curr_node.right\n",
    "        else:\n",
    "            break\n",
    "    return closest"
   ]
  },
  {
   "cell_type": "code",
   "execution_count": null,
   "metadata": {},
   "outputs": [],
   "source": []
  }
 ],
 "metadata": {
  "kernelspec": {
   "display_name": "Python 3",
   "language": "python",
   "name": "python3"
  },
  "language_info": {
   "codemirror_mode": {
    "name": "ipython",
    "version": 3
   },
   "file_extension": ".py",
   "mimetype": "text/x-python",
   "name": "python",
   "nbconvert_exporter": "python",
   "pygments_lexer": "ipython3",
   "version": "3.7.0"
  }
 },
 "nbformat": 4,
 "nbformat_minor": 2
}
