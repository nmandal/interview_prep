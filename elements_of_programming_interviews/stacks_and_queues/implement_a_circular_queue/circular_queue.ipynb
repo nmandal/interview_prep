{
 "cells": [
  {
   "cell_type": "code",
   "execution_count": 1,
   "metadata": {},
   "outputs": [
    {
     "name": "stdout",
     "output_type": "stream",
     "text": [
      "Writing circular_queue.py\n"
     ]
    }
   ],
   "source": [
    "%%writefile circular_queue.py\n",
    "class CircularQueue:\n",
    "    SCALE_FACTOR = 2\n",
    "    \n",
    "    def __init__(self, capacity):\n",
    "        self._entries = [None] * capacity\n",
    "        self._head = self._tail = self._num_queue_elements = 0\n",
    "        \n",
    "    def enqueue(self, x):\n",
    "        if self._num_queue_elements == len(self._entries): # need to resize\n",
    "            # makes queue elements appear consecutively\n",
    "            self._entries = (self._entries[self._head:] + self._entries[:self._head])\n",
    "            # reset head and tail\n",
    "            self._head, self._tail = 0, self._num_queue_elements\n",
    "            self._entries += [None] * (len(self._entries) * CircularQueue.SCALE_FACTOR)\n",
    "            \n",
    "        self._entries[self._tail] = x\n",
    "        self._tail = (self._tail + 1) % len(self._entries)\n",
    "        self._num_queue_elements += 1\n",
    "    \n",
    "    def dequeue(self):\n",
    "        if not self._num_queue_elements:\n",
    "            raise IndexError('empty queue')\n",
    "        self._num_queue_elements -= 1\n",
    "        ret = self._entries[self._head]\n",
    "        self._head = (self._head + 1) % len(self._entries)\n",
    "        return ret\n",
    "    \n",
    "    def size(self):\n",
    "        return self._num_queue_elements\n"
   ]
  },
  {
   "cell_type": "code",
   "execution_count": null,
   "metadata": {},
   "outputs": [],
   "source": []
  }
 ],
 "metadata": {
  "kernelspec": {
   "display_name": "Python 3",
   "language": "python",
   "name": "python3"
  },
  "language_info": {
   "codemirror_mode": {
    "name": "ipython",
    "version": 3
   },
   "file_extension": ".py",
   "mimetype": "text/x-python",
   "name": "python",
   "nbconvert_exporter": "python",
   "pygments_lexer": "ipython3",
   "version": "3.7.0"
  }
 },
 "nbformat": 4,
 "nbformat_minor": 2
}
