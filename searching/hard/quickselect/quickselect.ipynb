{
 "cells": [
  {
   "cell_type": "code",
   "execution_count": 1,
   "metadata": {},
   "outputs": [
    {
     "name": "stdout",
     "output_type": "stream",
     "text": [
      "Writing quickselect.py\n"
     ]
    }
   ],
   "source": [
    "%%writefile quickselect.py\n",
    "# Best: O(n) time    | O(1) space\n",
    "# Avg: O(n) time     | O(1) space\n",
    "# Worst: O(n^2) time | O(1) space\n",
    "def quickselect(arr, k):\n",
    "    position = k - 1\n",
    "    return _quickselect(arr, 0, len(arr) - 1, position)\n",
    "    \n",
    "def _quickselect(arr, start, end, position):\n",
    "    while True:\n",
    "        if start > end:\n",
    "            raise Exception(\"Your algorithm should never arrive here\")\n",
    "        pivot = start\n",
    "        left = start + 1\n",
    "        right = end\n",
    "        while left <= right:\n",
    "            if arr[left] > arr[pivot] and arr[right] < arr[pivot]:\n",
    "                swap(arr, left, right)\n",
    "            if arr[left] <= arr[pivot]:\n",
    "                left += 1\n",
    "            if arr[right] >= arr[pivot]:\n",
    "                right -= 1\n",
    "        swap(arr, pivot, right)\n",
    "        if right == position:\n",
    "            return arr[right]\n",
    "        elif right < position:\n",
    "            start = right + 1\n",
    "        else:\n",
    "            end = right - 1\n",
    "               \n",
    "def swap(arr, i, j):\n",
    "    arr[i], arr[j] = arr[j], arr[i]\n"
   ]
  },
  {
   "cell_type": "code",
   "execution_count": null,
   "metadata": {},
   "outputs": [],
   "source": []
  }
 ],
 "metadata": {
  "kernelspec": {
   "display_name": "Python 3",
   "language": "python",
   "name": "python3"
  },
  "language_info": {
   "codemirror_mode": {
    "name": "ipython",
    "version": 3
   },
   "file_extension": ".py",
   "mimetype": "text/x-python",
   "name": "python",
   "nbconvert_exporter": "python",
   "pygments_lexer": "ipython3",
   "version": "3.7.0"
  }
 },
 "nbformat": 4,
 "nbformat_minor": 2
}
