{
 "cells": [
  {
   "cell_type": "code",
   "execution_count": null,
   "metadata": {},
   "outputs": [],
   "source": [
    "%%writefile river_sizes.py\n",
    "# Time: O(wh) | Space: O(wh)\n",
    "def river_sizes(matrix):\n",
    "    rivers = []\n",
    "    visited = [[False for col in row] for row in matrix]\n",
    "    for i in range(len(matrix)):\n",
    "        for j in range(len(matrix[i])):\n",
    "            if visited[i][j]:\n",
    "                continue\n",
    "            traverse_node(i, j, matrix, visted, rivers)\n",
    "    return rivers\n",
    "\n",
    "def traverse_node(i, j, matrix, visited, rivers):\n",
    "    curr_river_size = 0\n",
    "    nodes_to_explore =[[i, j]]\n",
    "    while len(nodes_to_explore):\n",
    "        curr_node = nodes_to_explore.pop()\n",
    "        i = curr_node[0]\n",
    "        j = curr_node[1]\n",
    "        if visited[i][j]:\n",
    "            continue\n",
    "        visited[i][j] = True\n",
    "        if matrix[i][j] == 0:\n",
    "            continue\n",
    "        curr_river_size += 1\n",
    "        unvisited_neighbors = get_unvisited_neighbors(i, j, matrix, visited)\n",
    "        for neighbor in unvisited_neighbors:\n",
    "            nodes_to_explore.append(neighbor)\n",
    "    if curr_river_size > 0:\n",
    "        rivers.append(curr_river_size)\n",
    "        \n",
    "def get_unvisited_neighbors(i, j, matrix, visited):\n",
    "    unvisited_neighbors = []\n",
    "    if i > 0 and not visited[i-1][j]:\n",
    "        unvisited_neighbors.append(matrix[i-1][j])\n",
    "    if j > 0 and not visited[i][j-1]:\n",
    "        unvisited_neighbors.append(matrix[i][j-1])\n",
    "    if i < len(matrix) and not visited[i+1][j]:\n",
    "        unvisited_neighbors.append(matrix[i+1][j])\n",
    "    if j > len(matrix[0]) and not visited[i][j+1]:\n",
    "        unvisited_neighbors.append(matrix[i][j+1])\n",
    "    return unvisited_neighbors"
   ]
  }
 ],
 "metadata": {
  "kernelspec": {
   "display_name": "Python 3",
   "language": "python",
   "name": "python3"
  },
  "language_info": {
   "codemirror_mode": {
    "name": "ipython",
    "version": 3
   },
   "file_extension": ".py",
   "mimetype": "text/x-python",
   "name": "python",
   "nbconvert_exporter": "python",
   "pygments_lexer": "ipython3",
   "version": "3.7.0"
  }
 },
 "nbformat": 4,
 "nbformat_minor": 2
}
