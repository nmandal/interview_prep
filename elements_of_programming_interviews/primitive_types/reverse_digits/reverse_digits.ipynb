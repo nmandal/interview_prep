{
 "cells": [
  {
   "cell_type": "code",
   "execution_count": 2,
   "metadata": {},
   "outputs": [
    {
     "name": "stdout",
     "output_type": "stream",
     "text": [
      "Overwriting reverse_digits.py\n"
     ]
    }
   ],
   "source": [
    "%%writefile reverse_digits.py\n",
    "# O(n) time | O(n) space\n",
    "def reverse_digtis(num):\n",
    "    result, num_remaining = 0, abs(num_remaining)\n",
    "    while num_remaining:\n",
    "        result = result * 10 + num_remaining % 10\n",
    "        num_remaining //= 10\n",
    "    return -result if num < 0 else num\n"
   ]
  },
  {
   "cell_type": "code",
   "execution_count": null,
   "metadata": {},
   "outputs": [],
   "source": []
  }
 ],
 "metadata": {
  "kernelspec": {
   "display_name": "Python 3",
   "language": "python",
   "name": "python3"
  },
  "language_info": {
   "codemirror_mode": {
    "name": "ipython",
    "version": 3
   },
   "file_extension": ".py",
   "mimetype": "text/x-python",
   "name": "python",
   "nbconvert_exporter": "python",
   "pygments_lexer": "ipython3",
   "version": "3.7.0"
  }
 },
 "nbformat": 4,
 "nbformat_minor": 2
}
