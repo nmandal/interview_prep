{
 "cells": [
  {
   "cell_type": "code",
   "execution_count": 1,
   "metadata": {},
   "outputs": [
    {
     "name": "stdout",
     "output_type": "stream",
     "text": [
      "Writing longest_substring_without_duplicate.py\n"
     ]
    }
   ],
   "source": [
    "%%writefile longest_substring_without_duplicate.py\n",
    "# O(n) time | O(min(n, a)) space\n",
    "def longest_substring_without_duplicate(string):\n",
    "    last_seen = {}\n",
    "    longest = []\n",
    "    start = 0\n",
    "    for i, char in enumerate(string):\n",
    "        if char in last_seen:\n",
    "            start = max(start, last_seen[char] + 1)\n",
    "        if longest[1] - longest[0] < i + 1 - start:\n",
    "            longest = [start, i+1]\n",
    "        last_seen[char] = i\n",
    "    return string[longest[0]:longest[1]]"
   ]
  },
  {
   "cell_type": "code",
   "execution_count": null,
   "metadata": {},
   "outputs": [],
   "source": []
  }
 ],
 "metadata": {
  "kernelspec": {
   "display_name": "Python 3",
   "language": "python",
   "name": "python3"
  },
  "language_info": {
   "codemirror_mode": {
    "name": "ipython",
    "version": 3
   },
   "file_extension": ".py",
   "mimetype": "text/x-python",
   "name": "python",
   "nbconvert_exporter": "python",
   "pygments_lexer": "ipython3",
   "version": "3.7.0"
  }
 },
 "nbformat": 4,
 "nbformat_minor": 2
}
