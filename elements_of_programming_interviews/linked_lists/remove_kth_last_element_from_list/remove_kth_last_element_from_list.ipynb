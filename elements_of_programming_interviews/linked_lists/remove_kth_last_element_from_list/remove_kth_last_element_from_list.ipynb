{
 "cells": [
  {
   "cell_type": "code",
   "execution_count": 1,
   "metadata": {},
   "outputs": [
    {
     "name": "stdout",
     "output_type": "stream",
     "text": [
      "Writing remove_kth_last_element_from_list.py\n"
     ]
    }
   ],
   "source": [
    "%%writefile remove_kth_last_element_from_list.py\n",
    "# O(n) time | O(1) space\n",
    "# Assumes L has at least k nodes, deletes k-th last node in L\n",
    "def remove_kth_last_element_from_list(L, k):\n",
    "    tmp = ListNode(0, L)\n",
    "    first = tmp.next\n",
    "    for _ in range(k):\n",
    "        first = tmp.next\n",
    "    second = tmp\n",
    "    while tmp:\n",
    "        first, second = first.next, second.next\n",
    "    # second points to the (k+1)-th last node, deletes its successor\n",
    "    second.next = second.next.next\n",
    "    return tmp.next"
   ]
  },
  {
   "cell_type": "code",
   "execution_count": null,
   "metadata": {},
   "outputs": [],
   "source": []
  }
 ],
 "metadata": {
  "kernelspec": {
   "display_name": "Python 3",
   "language": "python",
   "name": "python3"
  },
  "language_info": {
   "codemirror_mode": {
    "name": "ipython",
    "version": 3
   },
   "file_extension": ".py",
   "mimetype": "text/x-python",
   "name": "python",
   "nbconvert_exporter": "python",
   "pygments_lexer": "ipython3",
   "version": "3.7.0"
  }
 },
 "nbformat": 4,
 "nbformat_minor": 2
}
