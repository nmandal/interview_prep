{
 "cells": [
  {
   "cell_type": "code",
   "execution_count": 1,
   "metadata": {},
   "outputs": [
    {
     "name": "stdout",
     "output_type": "stream",
     "text": [
      "Writing spiral_matrix.py\n"
     ]
    }
   ],
   "source": [
    "%%writefile spiral_matrix.py\n",
    "class Solution:\n",
    "    def spiralOrder(self, matrix):\n",
    "        \"\"\"\n",
    "        :type matrix: List[List[int]]\n",
    "        :rtype: List[int]\n",
    "        \"\"\"\n",
    "        if not matrix or not matrix[0]:\n",
    "            return []\n",
    "        spiral = []\n",
    "        m, n = len(matrix), len(matrix[0])\n",
    "        u, d, l, r = 0, m - 1, 0, n - 1\n",
    "        while l < r and u < d:\n",
    "            spiral.extend([matrix[u][j] for j in range(l,r)])\n",
    "            spiral.extend([matrix[i][r] for i in range(u,d)])\n",
    "            spiral.extend([matrix[d][j] for j in range(r,l,-1)])\n",
    "            spiral.extend([matrix[i][l] for i in range(d,u,-1)])\n",
    "            u, d, l, r = u + 1, d - 1, l + 1, r - 1\n",
    "        if l == r:\n",
    "            spiral.extend([matrix[i][r] for i in range(u,d+1)])\n",
    "        elif u == d:\n",
    "            spiral.extend([matrix[u][j] for j in range(l,r+1)])\n",
    "        return spiral\n"
   ]
  },
  {
   "cell_type": "code",
   "execution_count": null,
   "metadata": {},
   "outputs": [],
   "source": []
  }
 ],
 "metadata": {
  "kernelspec": {
   "display_name": "Python 3",
   "language": "python",
   "name": "python3"
  },
  "language_info": {
   "codemirror_mode": {
    "name": "ipython",
    "version": 3
   },
   "file_extension": ".py",
   "mimetype": "text/x-python",
   "name": "python",
   "nbconvert_exporter": "python",
   "pygments_lexer": "ipython3",
   "version": "3.7.0"
  }
 },
 "nbformat": 4,
 "nbformat_minor": 2
}
