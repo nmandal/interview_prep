{
 "cells": [
  {
   "cell_type": "code",
   "execution_count": null,
   "metadata": {},
   "outputs": [],
   "source": [
    "%%writefile max_path_sum_in_binary_tree.py\n",
    "# O(n) time | O(log n) space\n",
    "def max_path_sum_in_binary_tree(tree):\n",
    "    _, max_sum = find_max_sum(tree)\n",
    "    return max_sum\n",
    "\n",
    "def find_max_sum(tree):\n",
    "    if tree is None:\n",
    "        return (0, 0)\n",
    "    \n",
    "    left_max_sum_as_branch, left_max_path_sum = find_max_sum(tree.left)\n",
    "    right_max_sum_as_branch, right_max_path_sum = find_max_sum(tree.right)\n",
    "    max_child_sum_as_branch = max(left_max_sum_as_branch, right_max_sum_as_branch)\n",
    "    \n",
    "    value = tree.value\n",
    "    max_sum_as_branch = max(max_child_sum_as_branch + value, value)\n",
    "    max_sum_as_root_node = max(left_max_sum_as_branch + value + right_max_sum_as_branch, max_sum_as_branch)\n",
    "    max_path_sum = max(left_max_path_sum, right_max_path_sum, max_sum_as_root_node)\n",
    "    \n",
    "    return (max_sum_as_branch, max_path_sum)\n"
   ]
  }
 ],
 "metadata": {
  "kernelspec": {
   "display_name": "Python 3",
   "language": "python",
   "name": "python3"
  },
  "language_info": {
   "codemirror_mode": {
    "name": "ipython",
    "version": 3
   },
   "file_extension": ".py",
   "mimetype": "text/x-python",
   "name": "python",
   "nbconvert_exporter": "python",
   "pygments_lexer": "ipython3",
   "version": "3.7.0"
  }
 },
 "nbformat": 4,
 "nbformat_minor": 2
}
