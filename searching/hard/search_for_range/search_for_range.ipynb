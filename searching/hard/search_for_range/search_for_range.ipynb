{
 "cells": [
  {
   "cell_type": "code",
   "execution_count": 4,
   "metadata": {},
   "outputs": [
    {
     "name": "stdout",
     "output_type": "stream",
     "text": [
      "Overwriting search_for_range_recursive.py\n"
     ]
    }
   ],
   "source": [
    "%%writefile search_for_range_recursive.py\n",
    "# O(log n) time | O(log n) space\n",
    "def search_for_range(arr, target):\n",
    "    final_range = [-1, -1]\n",
    "    _altered_binary_search(arr, target, 0, len(arr) - 1, final_range, True)\n",
    "    _altered_binary_search(arr, target, 0, len(arr) - 1, final_range, False)\n",
    "    return final_range\n",
    "\n",
    "def _altered_binary_search(arr, target, left, right, final_range, go_left):\n",
    "    if left > right:\n",
    "        return\n",
    "    middle = (left + right) // 2\n",
    "    if arr[middle] < target:\n",
    "        _altered_binary_search(arr, target, middle+1, right, final_range, go_left)\n",
    "    elif arr[middle] > target:\n",
    "        _altered_binary_search(arr, target, left, middle-1, final_range, go_left)\n",
    "    else:\n",
    "        if go_left:\n",
    "            if middle == 0 or arr[middle-1] != target:\n",
    "                final_range[0] = middle\n",
    "            else:\n",
    "                _altered_binary_search(arr, target, left, middle-1, final_range, go_left)\n",
    "        else:\n",
    "            if middle == len(arr) - 1 or arr[middle+1] != target:\n",
    "                final_range[1] = middle\n",
    "            else:\n",
    "                _altered_binary_search(arr, target, middle+1, right, final_range, go_left)\n"
   ]
  },
  {
   "cell_type": "code",
   "execution_count": 5,
   "metadata": {},
   "outputs": [
    {
     "name": "stdout",
     "output_type": "stream",
     "text": [
      "Overwriting search_for_range_iterative.py\n"
     ]
    }
   ],
   "source": [
    "%%writefile search_for_range_iterative.py\n",
    "# O(log n) time | O(1) space\n",
    "def search_for_range(arr, target):\n",
    "    final_range = [-1, -1]\n",
    "    _altered_binary_search(arr, target, 0, len(arr) - 1, final_range, True)\n",
    "    _altered_binary_search(arr, target, 0, len(arr) - 1, final_range, False)\n",
    "    return final_range\n",
    "\n",
    "def _altered_binary_search(arr, target, left, right, final_range, go_left):\n",
    "    while left <= right:\n",
    "        middle = (left + right) // 2\n",
    "        if arr[middle] < target:\n",
    "            left = middle + 1\n",
    "        elif arr[middle] > target:\n",
    "            right = middle - 1\n",
    "        else:\n",
    "            if go_left:\n",
    "                if middle == 0 or array[middle-1] != target:\n",
    "                    final_range[0] = middle\n",
    "                    return\n",
    "                else:\n",
    "                    right = middle - 1\n",
    "            else:\n",
    "                if middle == len(array) - 1 or array[middle+1] != target:\n",
    "                    final_range[1] = middle\n",
    "                    return\n",
    "                else:\n",
    "                    left = middle + 1\n"
   ]
  },
  {
   "cell_type": "code",
   "execution_count": null,
   "metadata": {},
   "outputs": [],
   "source": []
  }
 ],
 "metadata": {
  "kernelspec": {
   "display_name": "Python 3",
   "language": "python",
   "name": "python3"
  },
  "language_info": {
   "codemirror_mode": {
    "name": "ipython",
    "version": 3
   },
   "file_extension": ".py",
   "mimetype": "text/x-python",
   "name": "python",
   "nbconvert_exporter": "python",
   "pygments_lexer": "ipython3",
   "version": "3.7.0"
  }
 },
 "nbformat": 4,
 "nbformat_minor": 2
}
