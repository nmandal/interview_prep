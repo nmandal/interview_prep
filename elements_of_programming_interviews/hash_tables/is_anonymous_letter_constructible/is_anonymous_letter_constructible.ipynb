{
 "cells": [
  {
   "cell_type": "code",
   "execution_count": 1,
   "metadata": {},
   "outputs": [
    {
     "name": "stdout",
     "output_type": "stream",
     "text": [
      "Writing is_anonymous_letter_constructible.py\n"
     ]
    }
   ],
   "source": [
    "%%writefile is_anonymous_letter_constructible.py\n",
    "# O(m+n) time where m and n are the number of characters in the letter and magazine respectively\n",
    "# O(L) space where L is the number of distinct letters appearing in the letter\n",
    "def is_letter_constructible_from_magazine(letter_text, magazine_text):\n",
    "    char_freqs_in_letter = collections.Counter(letter_text)\n",
    "    \n",
    "    # Checks if characters in magazine_text can cover characters in char_freq_in_letter\n",
    "    for c in magazine_text:\n",
    "        if c in char_freqs_in_letter:\n",
    "            char_freqs_in_letter[c] -= 1\n",
    "            if char_freqs_in_letter[c] == 0:\n",
    "                del char_freqs_in_letter[c]\n",
    "                if not char_freqs_in_letter:\n",
    "                    # All characters in letter text have been matched\n",
    "                    return True\n",
    "    \n",
    "    # Empty char_freqs_in_letter means that every letter can be covered\n",
    "    return not char_freqs_in_letter\n"
   ]
  },
  {
   "cell_type": "code",
   "execution_count": 3,
   "metadata": {},
   "outputs": [
    {
     "name": "stdout",
     "output_type": "stream",
     "text": [
      "Overwriting is_anonymous_letter_constructible_pythonic.py\n"
     ]
    }
   ],
   "source": [
    "%%writefile is_anonymous_letter_constructible_pythonic.py\n",
    "# O(m+n) time where m and n are the number of characters in the letter and magazine respectively\n",
    "# O(L) space where L is the number of distinct letters appearing in the letter\n",
    "def is_letter_constructible_from_magazine(letter_text, magazine_text):\n",
    "    return (not collections.Counter(letter_text) - collections.Counter(magazine_text))\n"
   ]
  },
  {
   "cell_type": "code",
   "execution_count": null,
   "metadata": {},
   "outputs": [],
   "source": []
  }
 ],
 "metadata": {
  "kernelspec": {
   "display_name": "Python 3",
   "language": "python",
   "name": "python3"
  },
  "language_info": {
   "codemirror_mode": {
    "name": "ipython",
    "version": 3
   },
   "file_extension": ".py",
   "mimetype": "text/x-python",
   "name": "python",
   "nbconvert_exporter": "python",
   "pygments_lexer": "ipython3",
   "version": "3.7.0"
  }
 },
 "nbformat": 4,
 "nbformat_minor": 2
}
