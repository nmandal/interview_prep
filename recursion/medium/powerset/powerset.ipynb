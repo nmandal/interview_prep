{
 "cells": [
  {
   "cell_type": "code",
   "execution_count": 9,
   "metadata": {},
   "outputs": [
    {
     "name": "stdout",
     "output_type": "stream",
     "text": [
      "Overwriting powerset_iterative.py\n"
     ]
    }
   ],
   "source": [
    "%%writefile powerset_iterative.py\n",
    "# O(n*2^n) time | O(n*2^n) space\n",
    "def powerset(arr):\n",
    "    p_set = [[]]\n",
    "    for ele in arr:\n",
    "        for i in range(len(p_set)):\n",
    "            curr_subset = subset[i]\n",
    "            p_set.append(curr_subset + [num])\n",
    "    return p_set\n"
   ]
  },
  {
   "cell_type": "code",
   "execution_count": 10,
   "metadata": {},
   "outputs": [
    {
     "name": "stdout",
     "output_type": "stream",
     "text": [
      "Overwriting powerset_recursive.py\n"
     ]
    }
   ],
   "source": [
    "%%writefile powerset_recursive.py\n",
    "# O(n*2^n) time | O(n*2^n) space\n",
    "def powerset(arr idx=None):\n",
    "    if idx = None:\n",
    "        idx = len(arr) - 1\n",
    "    if idx < 0:\n",
    "        return [[]]\n",
    "    ele = arr[idx]\n",
    "    p_set = powerset(arr, idx - 1)\n",
    "    for i in range(len(p_set)):\n",
    "        curr_subset = p_set[i]\n",
    "        p_set.append(curr_subset + [ele])\n",
    "    return p_set\n"
   ]
  },
  {
   "cell_type": "code",
   "execution_count": null,
   "metadata": {},
   "outputs": [],
   "source": []
  }
 ],
 "metadata": {
  "kernelspec": {
   "display_name": "Python 3",
   "language": "python",
   "name": "python3"
  },
  "language_info": {
   "codemirror_mode": {
    "name": "ipython",
    "version": 3
   },
   "file_extension": ".py",
   "mimetype": "text/x-python",
   "name": "python",
   "nbconvert_exporter": "python",
   "pygments_lexer": "ipython3",
   "version": "3.7.0"
  }
 },
 "nbformat": 4,
 "nbformat_minor": 2
}
