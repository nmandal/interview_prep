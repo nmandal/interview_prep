{
 "cells": [
  {
   "cell_type": "code",
   "execution_count": 1,
   "metadata": {},
   "outputs": [
    {
     "name": "stdout",
     "output_type": "stream",
     "text": [
      "Writing meeting_rooms_II.py\n"
     ]
    }
   ],
   "source": [
    "%%writefile meeting_rooms_II.py\n",
    "# O(n log n) time | O(n) space\n",
    "\n",
    "# Definition for an interval.\n",
    "# class Interval:\n",
    "#     def __init__(self, s=0, e=0):\n",
    "#         self.start = s\n",
    "#         self.end = e\n",
    "import heapq\n",
    "class Solution:\n",
    "    def minMeetingRooms(self, intervals):\n",
    "        \"\"\"\n",
    "        :type intervals: List[Interval]\n",
    "        :rtype: int\n",
    "        \"\"\"\n",
    "        if not intervals or len(intervals) == 1:\n",
    "            return len(intervals)\n",
    "        heap = []\n",
    "        min_num_rooms = 1\n",
    "        intervals.sort(key=lambda x: x.start)\n",
    "        for i in range(1, len(intervals)):\n",
    "            if intervals[i].start >= intervals[i-1].end:\n",
    "                continue\n",
    "            else:\n",
    "                heapq.heappush(heap, intervals[i-1].end)\n",
    "                if heap[0] <= intervals[i].start:\n",
    "                    heapq.heappop(heap)\n",
    "                else:\n",
    "                    min_num_rooms += 1\n",
    "        return min_num_rooms\n"
   ]
  },
  {
   "cell_type": "code",
   "execution_count": null,
   "metadata": {},
   "outputs": [],
   "source": []
  }
 ],
 "metadata": {
  "kernelspec": {
   "display_name": "Python 3",
   "language": "python",
   "name": "python3"
  },
  "language_info": {
   "codemirror_mode": {
    "name": "ipython",
    "version": 3
   },
   "file_extension": ".py",
   "mimetype": "text/x-python",
   "name": "python",
   "nbconvert_exporter": "python",
   "pygments_lexer": "ipython3",
   "version": "3.7.0"
  }
 },
 "nbformat": 4,
 "nbformat_minor": 2
}
