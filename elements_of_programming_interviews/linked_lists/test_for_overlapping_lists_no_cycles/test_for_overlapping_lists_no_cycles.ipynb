{
 "cells": [
  {
   "cell_type": "code",
   "execution_count": null,
   "metadata": {},
   "outputs": [],
   "source": [
    "%%writefile overlapping_lists_no_cycles.py\n",
    "# O(n) time | O(1) space\n",
    "def overlapping_no_cycle_lists(L1, L2):\n",
    "    def length(L):\n",
    "        length = 0\n",
    "        while L:\n",
    "            length += 1\n",
    "            L = L.next\n",
    "        return length\n",
    "    L1_len, L2_len = length(L1), length(L2)\n",
    "    if L1_len > L2_len:\n",
    "        L1, L2 = L2, L1 # Make L2 the longer list\n",
    "    # Advance longer list to get equal length lists\n",
    "    for i in range(abs(L1_len - L2_len)):\n",
    "        L2 = L2.next\n",
    "        \n",
    "    while L1 and L2 and L1 is not L2:\n",
    "        L1, L2 = L1.next, L2.next\n",
    "    return L1 # None implies there is no overlap between L1 and L2"
   ]
  }
 ],
 "metadata": {
  "kernelspec": {
   "display_name": "Python 3",
   "language": "python",
   "name": "python3"
  },
  "language_info": {
   "codemirror_mode": {
    "name": "ipython",
    "version": 3
   },
   "file_extension": ".py",
   "mimetype": "text/x-python",
   "name": "python",
   "nbconvert_exporter": "python",
   "pygments_lexer": "ipython3",
   "version": "3.7.0"
  }
 },
 "nbformat": 4,
 "nbformat_minor": 2
}
