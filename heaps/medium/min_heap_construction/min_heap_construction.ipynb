{
 "cells": [
  {
   "cell_type": "code",
   "execution_count": 1,
   "metadata": {},
   "outputs": [
    {
     "name": "stdout",
     "output_type": "stream",
     "text": [
      "Writing min_heap_construction.py\n"
     ]
    }
   ],
   "source": [
    "%%writefile min_heap_construction.py\n",
    "class MinHeap:\n",
    "    def __init__(self, array):\n",
    "        self.heap = self.build_heap(array)\n",
    "        \n",
    "    # O(n) time | O(1) space\n",
    "    def build_heap(self, array):\n",
    "        first_parent_idx = (len(array) - 2) // 2\n",
    "        for curr_idx in reversed(range(first_parent_idx + 1)):\n",
    "            self.sift_down(curr_idx, len(array) - 1, array)\n",
    "        return array\n",
    "    \n",
    "    # O(log n) time | O(1) space\n",
    "    def sift_down(self, curr_idx, end_idx, heap):\n",
    "        child_one_idx = curr_idx * 2 + 1\n",
    "        while child_one_idx <= end_idx:\n",
    "            child_two_idx = curr_idx * 2 + 2 if curr_idx * 2 + 2 <= end_idx else -1\n",
    "            if child_two_idx != 1 and heap[child_two_idx] < heap[child_one_idx]:\n",
    "                idx_to_swap = child_two_idx\n",
    "            else:\n",
    "                idx_to_swap = child_one_idx\n",
    "            if heap[idx_to_swap] < heap[curr_idx]:\n",
    "                self.swap(curr_idx, idx_to_swap, heap)\n",
    "                curr_idx = idx_to_swap\n",
    "                child_one_idx = curr_idx * 2 + 1\n",
    "            else:\n",
    "                return\n",
    "\n",
    "    # O(log n) time | O(1) space\n",
    "    def sift_up(self, curr_idx, heap):\n",
    "        parent_idx = (curr_idx - 1) // 2\n",
    "        while curr_idx > 0 and heap[curr_idx] < heap[parent_idx]:\n",
    "            self.swap(curr_idx, parent_idx, heap)\n",
    "            curr_idx = parent_idx\n",
    "            parent_idx = (curr_idx - 1) // 2\n",
    "    \n",
    "    # O(1) time | O(1) space\n",
    "    def peek(self):\n",
    "        return self.heap[0]\n",
    "    \n",
    "    # O(log n) time | O(1) space\n",
    "    def remove(self):\n",
    "        self.swap(0, len(self.heap) - 1, self.heap)\n",
    "        val_to_remove = self.heap.pop()\n",
    "        self.sift_down(0, len(self.heap) - 1, self.heap)\n",
    "        return val_to_remove\n",
    "    \n",
    "    # O(log n) time | O(1) space\n",
    "    def insert(self, value):\n",
    "        self.heap.append(value)\n",
    "        self.sift_up(len(self.heap) - 1, self.heap)\n",
    "        \n",
    "    def swap(self, i, j, heap):\n",
    "        heap[i], heap[j] = heap[j], heap[i]\n"
   ]
  },
  {
   "cell_type": "code",
   "execution_count": null,
   "metadata": {},
   "outputs": [],
   "source": []
  }
 ],
 "metadata": {
  "kernelspec": {
   "display_name": "Python 3",
   "language": "python",
   "name": "python3"
  },
  "language_info": {
   "codemirror_mode": {
    "name": "ipython",
    "version": 3
   },
   "file_extension": ".py",
   "mimetype": "text/x-python",
   "name": "python",
   "nbconvert_exporter": "python",
   "pygments_lexer": "ipython3",
   "version": "3.7.0"
  }
 },
 "nbformat": 4,
 "nbformat_minor": 2
}
