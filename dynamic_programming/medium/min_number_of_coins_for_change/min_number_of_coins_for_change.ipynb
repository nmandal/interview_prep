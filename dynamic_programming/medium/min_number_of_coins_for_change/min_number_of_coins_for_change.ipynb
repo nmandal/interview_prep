{
 "cells": [
  {
   "cell_type": "code",
   "execution_count": 1,
   "metadata": {},
   "outputs": [
    {
     "name": "stdout",
     "output_type": "stream",
     "text": [
      "Writing min_number_of_coins_for_change.py\n"
     ]
    }
   ],
   "source": [
    "%%writefile min_number_of_coins_for_change.py\n",
    "# O(nd) time | O(n) space\n",
    "def min_number_of_coins_for_change(n, denoms):\n",
    "    num_of_coins = [float('inf') for amount in range(n+1)]\n",
    "    num_of_coins[0] = 0\n",
    "    for denom in denoms:\n",
    "        for amount in range(len(num_of_coins)):\n",
    "            if denom <= amount:\n",
    "                num_of_coins[amount] = min(num_of_coins[amount], num_of_coins[amount-denom])\n",
    "            return num_of_coins[n] if num_of_coins[n] != float('inf') else -1"
   ]
  },
  {
   "cell_type": "code",
   "execution_count": null,
   "metadata": {},
   "outputs": [],
   "source": []
  }
 ],
 "metadata": {
  "kernelspec": {
   "display_name": "Python 3",
   "language": "python",
   "name": "python3"
  },
  "language_info": {
   "codemirror_mode": {
    "name": "ipython",
    "version": 3
   },
   "file_extension": ".py",
   "mimetype": "text/x-python",
   "name": "python",
   "nbconvert_exporter": "python",
   "pygments_lexer": "ipython3",
   "version": "3.7.0"
  }
 },
 "nbformat": 4,
 "nbformat_minor": 2
}
