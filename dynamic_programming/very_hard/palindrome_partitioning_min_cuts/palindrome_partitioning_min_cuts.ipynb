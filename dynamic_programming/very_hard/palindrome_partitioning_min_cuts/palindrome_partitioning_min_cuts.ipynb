{
 "cells": [
  {
   "cell_type": "code",
   "execution_count": 3,
   "metadata": {},
   "outputs": [
    {
     "name": "stdout",
     "output_type": "stream",
     "text": [
      "Overwriting palindrome_partitioning_min_cuts_slow.py\n"
     ]
    }
   ],
   "source": [
    "%%writefile palindrome_partitioning_min_cuts_slow.py\n",
    "# O(n^3) time | O(n^2) space\n",
    "def palindrome_partitioning_min_cuts(string):\n",
    "    palindromes = [[False for i in string] for j in string]\n",
    "    for i in range(len(string)):\n",
    "        for j in range(len(string)):\n",
    "            palindromes[i][j] = is_palindrome(string[i:j+1])\n",
    "    cuts = [float('inf') for i in string]\n",
    "    for i in range(len(string)):\n",
    "        if palindromes[0][i]:\n",
    "            cuts[i] = 0\n",
    "        else:\n",
    "            cuts[i] = cuts[i-1] + 1\n",
    "            for j in range(1, i):\n",
    "                if palindromes[j][i] and cuts[j-1] + 1 < cuts[i]:\n",
    "                    cuts[i] = cuts[j-1] + 1\n",
    "    return cuts[-1]\n",
    "\n",
    "def is_palindrome(string):\n",
    "    left = 0\n",
    "    right = len(string) - 1\n",
    "    while left < right:\n",
    "        if string[left] != string[right]:\n",
    "            return False\n",
    "        left += 1\n",
    "        right -= 1\n",
    "    return True\n"
   ]
  },
  {
   "cell_type": "code",
   "execution_count": 4,
   "metadata": {},
   "outputs": [
    {
     "name": "stdout",
     "output_type": "stream",
     "text": [
      "Overwriting palindrome_partitioning_min_cuts_fast.py\n"
     ]
    }
   ],
   "source": [
    "%%writefile palindrome_partitioning_min_cuts_fast.py\n",
    "# O(n^2) time | O(n^2) space\n",
    "def palindrome_partitioning_min_cuts(string):\n",
    "    palindromes = [[False for i in string] for j in string]\n",
    "    for i in range(len(string)):\n",
    "        palindromes[i][i] = True\n",
    "    for length in range(2, len(string) + 1):\n",
    "        for i in range(0, len(string) - length + 1):\n",
    "            j = i + length - 1\n",
    "            if length == 2:\n",
    "                palindromes[i][j] = string[i] == string[j]\n",
    "            else:\n",
    "                palindromes[i][j] = string[i] == string[j] and palindromes[i+1][j-1]\n",
    "    cuts = [float('inf') for i in in string]\n",
    "    for i in range(len(string)):\n",
    "        if palindromes[0][i]:\n",
    "            cuts[i] = 0\n",
    "        else:\n",
    "            cuts[i] = cuts[i-1] + 1\n",
    "            for j in range(1, i):\n",
    "                if palindromes[j][i] and cuts[j-1] + 1 < cuts[i]:\n",
    "                    cuts[i] = cuts[j-1] + 1\n",
    "    return cuts[-1]\n"
   ]
  },
  {
   "cell_type": "code",
   "execution_count": null,
   "metadata": {},
   "outputs": [],
   "source": []
  }
 ],
 "metadata": {
  "kernelspec": {
   "display_name": "Python 3",
   "language": "python",
   "name": "python3"
  },
  "language_info": {
   "codemirror_mode": {
    "name": "ipython",
    "version": 3
   },
   "file_extension": ".py",
   "mimetype": "text/x-python",
   "name": "python",
   "nbconvert_exporter": "python",
   "pygments_lexer": "ipython3",
   "version": "3.7.0"
  }
 },
 "nbformat": 4,
 "nbformat_minor": 2
}
