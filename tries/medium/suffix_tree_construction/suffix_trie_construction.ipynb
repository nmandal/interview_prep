{
 "cells": [
  {
   "cell_type": "code",
   "execution_count": 1,
   "metadata": {},
   "outputs": [
    {
     "name": "stdout",
     "output_type": "stream",
     "text": [
      "Writing suffix_tree_construction.py\n"
     ]
    }
   ],
   "source": [
    "%%writefile suffix_tree_construction.py\n",
    "class SuffixTrie:\n",
    "    def __init__(self, string):\n",
    "        self.root = {}\n",
    "        self.end_symbol = \"*\"\n",
    "        self.populate_suffix_trie_from(string)\n",
    "        \n",
    "    def populate_suffix_trie_from(self, string):\n",
    "        for i in range(len(string)):\n",
    "            self.insert_substring_starting_at(i, string)\n",
    "    \n",
    "    def insert_substring_starting_at(self, i, string):\n",
    "        node = self.root\n",
    "        for j in range(i, len(string)):\n",
    "            letter = string[j]\n",
    "            if letter not in node:\n",
    "                node[letter] = {}\n",
    "            node = node[letter]\n",
    "        node[self.end_symbol] = True\n",
    "    \n",
    "    def contains(self, string):\n",
    "        node = self.root\n",
    "        for letter in string:\n",
    "            if letter not in node:\n",
    "                return False\n",
    "            node = node[letter]\n",
    "        return self.end_symbol in node\n"
   ]
  },
  {
   "cell_type": "code",
   "execution_count": null,
   "metadata": {},
   "outputs": [],
   "source": []
  }
 ],
 "metadata": {
  "kernelspec": {
   "display_name": "Python 3",
   "language": "python",
   "name": "python3"
  },
  "language_info": {
   "codemirror_mode": {
    "name": "ipython",
    "version": 3
   },
   "file_extension": ".py",
   "mimetype": "text/x-python",
   "name": "python",
   "nbconvert_exporter": "python",
   "pygments_lexer": "ipython3",
   "version": "3.7.0"
  }
 },
 "nbformat": 4,
 "nbformat_minor": 2
}
