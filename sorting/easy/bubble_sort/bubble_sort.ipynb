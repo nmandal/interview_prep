{
 "cells": [
  {
   "cell_type": "code",
   "execution_count": null,
   "metadata": {},
   "outputs": [],
   "source": [
    "%%writefile bubble_sort.py\n",
    "# Best: O(n) time | O(1) space\n",
    "# Average: O(n^2) time | O(1) space\n",
    "# Worst: O(n^2) time | O(1) space\n",
    "def bubble_sort(arr):\n",
    "    is_sorted = False\n",
    "    counter = 0\n",
    "    while not is_sorted:\n",
    "        is_sorted = True\n",
    "        for i in range(len(arr) - 1 - counter):\n",
    "            if arr[i] > arr[i+1]:\n",
    "                swap(i, i+1, arr)\n",
    "                is_sorted = False\n",
    "        counter += 1"
   ]
  }
 ],
 "metadata": {
  "kernelspec": {
   "display_name": "Python 3",
   "language": "python",
   "name": "python3"
  },
  "language_info": {
   "codemirror_mode": {
    "name": "ipython",
    "version": 3
   },
   "file_extension": ".py",
   "mimetype": "text/x-python",
   "name": "python",
   "nbconvert_exporter": "python",
   "pygments_lexer": "ipython3",
   "version": "3.7.0"
  }
 },
 "nbformat": 4,
 "nbformat_minor": 2
}
