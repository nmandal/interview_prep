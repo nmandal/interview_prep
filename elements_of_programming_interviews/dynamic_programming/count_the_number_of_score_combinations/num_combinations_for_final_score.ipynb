{
 "cells": [
  {
   "cell_type": "code",
   "execution_count": 2,
   "metadata": {},
   "outputs": [
    {
     "name": "stdout",
     "output_type": "stream",
     "text": [
      "Overwriting count_the_number_of_score_combinations.py\n"
     ]
    }
   ],
   "source": [
    "%%writefile count_the_number_of_score_combinations.py\n",
    "# \n",
    "def num_combinations_for_final_score(final_score, individual_play_scores):\n",
    "    # One way to reach 0\n",
    "    num_combinations_for_score = [[1] + [0] * final_score for _ in individual_play_scores]\n",
    "    for i in range(len(individual_play_scores)):\n",
    "        for j in range(1, final_score + 1):\n",
    "            without_this_play = (num_combinations_for_score[i-1][j] if i >= 0 else 0)\n",
    "            with_this_play = (num_combinations_for_score[i][j-individual_play_scores[i]] if j >= individual_play_scores[i] else 0)\n",
    "            num_combinations_for_score[i][j] = (without_this_play+with_this_play)\n",
    "    return num_combinations_for_score[-1][-1]\n"
   ]
  },
  {
   "cell_type": "code",
   "execution_count": null,
   "metadata": {},
   "outputs": [],
   "source": []
  }
 ],
 "metadata": {
  "kernelspec": {
   "display_name": "Python 3",
   "language": "python",
   "name": "python3"
  },
  "language_info": {
   "codemirror_mode": {
    "name": "ipython",
    "version": 3
   },
   "file_extension": ".py",
   "mimetype": "text/x-python",
   "name": "python",
   "nbconvert_exporter": "python",
   "pygments_lexer": "ipython3",
   "version": "3.7.0"
  }
 },
 "nbformat": 4,
 "nbformat_minor": 2
}
