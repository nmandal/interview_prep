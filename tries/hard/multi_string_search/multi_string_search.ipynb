{
 "cells": [
  {
   "cell_type": "code",
   "execution_count": 7,
   "metadata": {},
   "outputs": [
    {
     "name": "stdout",
     "output_type": "stream",
     "text": [
      "Overwriting multi_string_search_1.py\n"
     ]
    }
   ],
   "source": [
    "%%writefile multi_string_search_1.py\n",
    "# O(bns) time | O(n) space\n",
    "def multi_string_search(big_string, small_strings):\n",
    "    return [is_in_big_string(big_string, small_string) for small_string in small_strings]\n",
    "\n",
    "def is_in_big_string(big_string, small_string):\n",
    "    for i in range(len(big_string)):\n",
    "        if i + len(small_string) > len(big_string):\n",
    "            break\n",
    "        if is_in_big_string_helper(big_string, small_string, i):\n",
    "            return True\n",
    "    return False\n",
    "\n",
    "def is_in_big_string_helper(big_string, small_string, start):\n",
    "    left_big = start\n",
    "    right_big = start + len(small_string) - 1\n",
    "    left_small = 0\n",
    "    right_small = len(small_string) - 1\n",
    "    while left_big <= right_big:\n",
    "        if (big_string[left_big] != small_string[left_small] or big_string[right_big] != small_string[right_small]):\n",
    "            return False\n",
    "        left_big += 1\n",
    "        right_big -= 1\n",
    "        left_small += 1\n",
    "        right_small -= 1\n",
    "    return True\n"
   ]
  },
  {
   "cell_type": "code",
   "execution_count": 8,
   "metadata": {},
   "outputs": [
    {
     "name": "stdout",
     "output_type": "stream",
     "text": [
      "Overwriting multi_string_search_2.py\n"
     ]
    }
   ],
   "source": [
    "%%writefile multi_string_search_2.py\n",
    "# O(b^2 + ns) time | O(b^2 + n) space\n",
    "def multi_string_search(big_string, small_strings):\n",
    "    modified_suffix_trie = ModifiedSuffixTrie(big_string)\n",
    "    return [modified_suffix_trie.contains(string) for string in small_strings]\n",
    "\n",
    "class ModifiedSuffixTrie:\n",
    "    def __init__(self, string):\n",
    "        self.root = {}\n",
    "        self.populate_modified_suffix_trie_from(string)\n",
    "        \n",
    "    def populate_modified_suffix_trie_from(self, string):\n",
    "        for i in range(len(string)):\n",
    "            self.insert_substring_starting_at(i, string)\n",
    "            \n",
    "    def insert_substring_starting_at(self, i, string):\n",
    "        node = self.root\n",
    "        for j in range(i, len(string)):\n",
    "            letter = string[j]\n",
    "            if letter not in node:\n",
    "                node[letter] = {}\n",
    "            node = node[letter]\n",
    "            \n",
    "    def contains(self, string):\n",
    "        node = self.root\n",
    "        for letter in string:\n",
    "            if letter not in node:\n",
    "                return False\n",
    "            node = node[letter]\n",
    "        return True\n",
    "        \n"
   ]
  },
  {
   "cell_type": "code",
   "execution_count": 9,
   "metadata": {},
   "outputs": [
    {
     "name": "stdout",
     "output_type": "stream",
     "text": [
      "Overwriting multi_string_search_3.py\n"
     ]
    }
   ],
   "source": [
    "%%writefile multi_string_search_3.py\n",
    "# O(ns + bs) time | O(ns) space\n",
    "def multi_string_search(big_string, small_strings):\n",
    "    trie = Trie()\n",
    "    for string in small_strings:\n",
    "        trie.insert(string)\n",
    "    contained_strings = {}\n",
    "    for i in range(len(big_string)):\n",
    "        find_small_strings_in(big_string, i, trie, contained_strings)\n",
    "    return [string in contained_strings for string in small_strings]\n",
    "\n",
    "def find_small_strings_in(string, start, trie, contained_strings):\n",
    "    curr_node = trie.root\n",
    "    for i in range(start, len(string)):\n",
    "        curr_char = string[i]\n",
    "        if curr_char not in curr_node:\n",
    "            break\n",
    "        curr_node = curr_node[curr_char]\n",
    "        if trie.end_symbol in curr_node:\n",
    "            contained_strings[curr_node[trie.end_symbol]] = True\n",
    "            \n",
    "class Trie:\n",
    "    def __init__(self):\n",
    "        self.root = {}\n",
    "        self.end_symbol = \"*\"\n",
    "\n",
    "    def insert(self, string):\n",
    "        curr = self.root\n",
    "        for i in range(len(string)):\n",
    "            if string[i] not in curr:\n",
    "                curr[string[i]] = {}\n",
    "            curr = curr[string[i]]\n",
    "        curr[self.end_symbol] = string\n"
   ]
  },
  {
   "cell_type": "code",
   "execution_count": null,
   "metadata": {},
   "outputs": [],
   "source": []
  }
 ],
 "metadata": {
  "kernelspec": {
   "display_name": "Python 3",
   "language": "python",
   "name": "python3"
  },
  "language_info": {
   "codemirror_mode": {
    "name": "ipython",
    "version": 3
   },
   "file_extension": ".py",
   "mimetype": "text/x-python",
   "name": "python",
   "nbconvert_exporter": "python",
   "pygments_lexer": "ipython3",
   "version": "3.7.0"
  }
 },
 "nbformat": 4,
 "nbformat_minor": 2
}
