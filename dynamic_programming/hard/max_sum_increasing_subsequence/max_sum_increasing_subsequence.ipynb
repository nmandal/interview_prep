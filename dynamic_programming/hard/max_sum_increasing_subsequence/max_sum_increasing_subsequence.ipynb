{
 "cells": [
  {
   "cell_type": "code",
   "execution_count": 4,
   "metadata": {},
   "outputs": [
    {
     "name": "stdout",
     "output_type": "stream",
     "text": [
      "Overwriting max_sum_increasing_subsequence.py\n"
     ]
    }
   ],
   "source": [
    "%%writefile max_sum_increasing_subsequence.py\n",
    "# O(n^2) time | O(n) space\n",
    "def max_sum_increasing_subsequence(arr):\n",
    "    sums = [None for x in arr]\n",
    "    seqs = [num for num in arr]\n",
    "    max_sum_idx = 0\n",
    "    for i in range(len(arr)):\n",
    "        curr_num = arr[i]\n",
    "        for j in range(0, i):\n",
    "            other_num = arr[j]\n",
    "            if other_num < curr_num and sums[j] + curr_num >= sums[i]:\n",
    "                sums[i] = sums[j] + curr_num\n",
    "                seqs[i] = j\n",
    "        if sums[i] >= sums[max_sum_idx]:\n",
    "            max_sum_idx = i\n",
    "    return [sums[max_sum_idx], build_sequence(arr, seqs, max_sum_idx)]\n",
    "\n",
    "def build_sequence(arr, seqs, curr_idx):\n",
    "    seq = []\n",
    "    while curr_idx is not None:\n",
    "        seq.append(arr[curr_idx])\n",
    "        curr_idx = seqs[curr_idx]\n",
    "    return list(reversed(seq))"
   ]
  },
  {
   "cell_type": "markdown",
   "metadata": {},
   "source": []
  }
 ],
 "metadata": {
  "kernelspec": {
   "display_name": "Python 3",
   "language": "python",
   "name": "python3"
  },
  "language_info": {
   "codemirror_mode": {
    "name": "ipython",
    "version": 3
   },
   "file_extension": ".py",
   "mimetype": "text/x-python",
   "name": "python",
   "nbconvert_exporter": "python",
   "pygments_lexer": "ipython3",
   "version": "3.7.0"
  }
 },
 "nbformat": 4,
 "nbformat_minor": 2
}
