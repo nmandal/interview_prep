{
 "cells": [
  {
   "cell_type": "code",
   "execution_count": 1,
   "metadata": {},
   "outputs": [
    {
     "name": "stdout",
     "output_type": "stream",
     "text": [
      "Writing product_of_other_numbers.py\n"
     ]
    }
   ],
   "source": [
    "%%writefile product_of_other_numbers.py\n",
    "def get_products_of_all_ints_except_at_index(int_list):\n",
    "    if len(int_list) < 2:\n",
    "        raise IndexError('Getting the product of numbers at other indices requires at least 2 numbers')\n",
    "        \n",
    "    # We make a list with the length of the input list to \n",
    "    # hold our products\n",
    "    products_of_all_ints_except_at_index = [None] * len(int_list)\n",
    "    \n",
    "    # For each integer, we find the product of all the integers \n",
    "    # before it, storing the total product so far each time\n",
    "    product_so_far = 1\n",
    "    for i in range(len(int_list)):\n",
    "        products_of_all_ints_except_at_index[i] = product_so_far\n",
    "        product_so_far *= int_list[i]\n",
    "        \n",
    "    # For each integer, we find the product of all the integers\n",
    "    # after it. Since each index in products already has the\n",
    "    # product of all the integers before it, now we're storing\n",
    "    # the total product of all other integers\n",
    "    product_so_far = 1\n",
    "    for i in range(len(int_list) - 1, -1, -1):\n",
    "        products_of_all_ints_except_at_index[i] *= product_so_far\n",
    "        product_so_far *= int_list[i]\n",
    "\n",
    "    return products_of_all_ints_except_at_index\n"
   ]
  },
  {
   "cell_type": "code",
   "execution_count": null,
   "metadata": {},
   "outputs": [],
   "source": []
  }
 ],
 "metadata": {
  "kernelspec": {
   "display_name": "Python 3",
   "language": "python",
   "name": "python3"
  },
  "language_info": {
   "codemirror_mode": {
    "name": "ipython",
    "version": 3
   },
   "file_extension": ".py",
   "mimetype": "text/x-python",
   "name": "python",
   "nbconvert_exporter": "python",
   "pygments_lexer": "ipython3",
   "version": "3.7.0"
  }
 },
 "nbformat": 4,
 "nbformat_minor": 2
}
