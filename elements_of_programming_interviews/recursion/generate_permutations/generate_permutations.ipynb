{
 "cells": [
  {
   "cell_type": "code",
   "execution_count": 1,
   "metadata": {},
   "outputs": [
    {
     "name": "stdout",
     "output_type": "stream",
     "text": [
      "Writing generate_permutations.py\n"
     ]
    }
   ],
   "source": [
    "%%writefile generate_permutations.py\n",
    "# O(n*n!) time | O(n*n!) space\n",
    "def generate_permutations(A):\n",
    "    def directed_permutations(i):\n",
    "        if i == len(A) - 1:\n",
    "            result.append(A.copy)\n",
    "            return\n",
    "        \n",
    "        # Try every possibility for A[j]\n",
    "        for j in range(i, len(A)):\n",
    "            A[i], A[j] = A[j], A[i]\n",
    "            directed_permutations(i+1)\n",
    "            A[i], A[j] = A[j], A[i]\n",
    "            \n",
    "    result = []\n",
    "    directed_permutations(0)\n",
    "    return result\n"
   ]
  },
  {
   "cell_type": "code",
   "execution_count": null,
   "metadata": {},
   "outputs": [],
   "source": []
  }
 ],
 "metadata": {
  "kernelspec": {
   "display_name": "Python 3",
   "language": "python",
   "name": "python3"
  },
  "language_info": {
   "codemirror_mode": {
    "name": "ipython",
    "version": 3
   },
   "file_extension": ".py",
   "mimetype": "text/x-python",
   "name": "python",
   "nbconvert_exporter": "python",
   "pygments_lexer": "ipython3",
   "version": "3.7.0"
  }
 },
 "nbformat": 4,
 "nbformat_minor": 2
}
