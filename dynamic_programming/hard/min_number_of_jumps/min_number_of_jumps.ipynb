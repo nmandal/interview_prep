{
 "cells": [
  {
   "cell_type": "code",
   "execution_count": 1,
   "metadata": {},
   "outputs": [
    {
     "name": "stdout",
     "output_type": "stream",
     "text": [
      "Writing min_number_of_jumps_slow.py\n"
     ]
    }
   ],
   "source": [
    "%%writefile min_number_of_jumps_slow.py\n",
    "# O(n^2) time | O(n) space\n",
    "def min_number_of_jumps(arr):\n",
    "    jumps = [float('inf') for x in arr]\n",
    "    jumps[0] = 0\n",
    "    for i in range(1, len(arr)):\n",
    "        for j in range(0, i):\n",
    "            if arr[j] >= i - j:\n",
    "                jumps[i] = min(jumps[i], jumps[j] + 1)\n",
    "    return jumps[-1]\n"
   ]
  },
  {
   "cell_type": "code",
   "execution_count": 2,
   "metadata": {},
   "outputs": [
    {
     "name": "stdout",
     "output_type": "stream",
     "text": [
      "Writing min_number_of_jumps_fast.py\n"
     ]
    }
   ],
   "source": [
    "%%writefile min_number_of_jumps_fast.py\n",
    "# O(n) time | O(1) space\n",
    "def min_number_of_jumps(arr):\n",
    "    if len(arr) == 1:\n",
    "        return 0\n",
    "    jumps = 0\n",
    "    max_reach = arr[0]\n",
    "    steps = arr[0]\n",
    "    for i in range(1, len(arr) - 1):\n",
    "        max_reach = max(max_reach, i + arr[i])\n",
    "        steps -= 1\n",
    "        if steps == 0:\n",
    "            jumps += 1\n",
    "            steps = max_reach - i\n",
    "    return jumps + 1"
   ]
  },
  {
   "cell_type": "code",
   "execution_count": null,
   "metadata": {},
   "outputs": [],
   "source": []
  }
 ],
 "metadata": {
  "kernelspec": {
   "display_name": "Python 3",
   "language": "python",
   "name": "python3"
  },
  "language_info": {
   "codemirror_mode": {
    "name": "ipython",
    "version": 3
   },
   "file_extension": ".py",
   "mimetype": "text/x-python",
   "name": "python",
   "nbconvert_exporter": "python",
   "pygments_lexer": "ipython3",
   "version": "3.7.0"
  }
 },
 "nbformat": 4,
 "nbformat_minor": 2
}
