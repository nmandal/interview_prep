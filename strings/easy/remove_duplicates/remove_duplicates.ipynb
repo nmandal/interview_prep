{
 "cells": [
  {
   "cell_type": "code",
   "execution_count": 13,
   "metadata": {},
   "outputs": [
    {
     "name": "stdout",
     "output_type": "stream",
     "text": [
      "8.651100006318302e-05\n",
      "5.221200001415127e-05\n"
     ]
    }
   ],
   "source": [
    "#%%writefile remove_duplicates.py\n",
    "import timeit\n",
    "\n",
    "def remove_duplicates(array):\n",
    "    chars = {}\n",
    "    for char in array:\n",
    "        if char in chars:\n",
    "            array.pop(char)\n",
    "        else:\n",
    "            chars[char] = char\n",
    "    return array\n",
    "\n",
    "def alt_remove_duplicates(array):\n",
    "    return set(array)\n",
    "\n",
    "l = [1,3,2,5,6,3,3,1,1,2,5,7,15,2,512,63,2,6,4,236,4522352,1,2,6,7,8,4,2,3,67,8,8,9,4]\n",
    "start = timeit.default_timer()\n",
    "remove_duplicates(l)\n",
    "stop = timeit.default_timer()\n",
    "execution_time = stop - start\n",
    "print(execution_time)\n",
    "start = timeit.default_timer()\n",
    "alt_remove_duplicates(l)\n",
    "stop = timeit.default_timer()\n",
    "execution_time = stop - start\n",
    "print(execution_time)"
   ]
  },
  {
   "cell_type": "code",
   "execution_count": null,
   "metadata": {},
   "outputs": [],
   "source": []
  }
 ],
 "metadata": {
  "kernelspec": {
   "display_name": "Python 3",
   "language": "python",
   "name": "python3"
  },
  "language_info": {
   "codemirror_mode": {
    "name": "ipython",
    "version": 3
   },
   "file_extension": ".py",
   "mimetype": "text/x-python",
   "name": "python",
   "nbconvert_exporter": "python",
   "pygments_lexer": "ipython3",
   "version": "3.7.0"
  }
 },
 "nbformat": 4,
 "nbformat_minor": 2
}
