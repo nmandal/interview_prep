{
 "cells": [
  {
   "cell_type": "code",
   "execution_count": 2,
   "metadata": {},
   "outputs": [
    {
     "name": "stdout",
     "output_type": "stream",
     "text": [
      "Overwriting balanced_brackets.py\n"
     ]
    }
   ],
   "source": [
    "%%writefile balanced_brackets.py\n",
    "# O(N) time | O(N) space\n",
    "def balanced_brackets(string):\n",
    "    openings = '([{'\n",
    "    closings = ')]}'\n",
    "    matching = {')': '(', ']': '[', '}': '{'}\n",
    "    stack = []\n",
    "    for char in string:\n",
    "        if char in openings:\n",
    "            stack.append(char)\n",
    "        elif char in closings:\n",
    "            if len(stack) == 0:\n",
    "                return False\n",
    "            if stack[-1] == matching[char]:\n",
    "                stack.pop()\n",
    "            else:\n",
    "                return False\n",
    "    return len(stack) == 0"
   ]
  },
  {
   "cell_type": "code",
   "execution_count": null,
   "metadata": {},
   "outputs": [],
   "source": []
  }
 ],
 "metadata": {
  "kernelspec": {
   "display_name": "Python 3",
   "language": "python",
   "name": "python3"
  },
  "language_info": {
   "codemirror_mode": {
    "name": "ipython",
    "version": 3
   },
   "file_extension": ".py",
   "mimetype": "text/x-python",
   "name": "python",
   "nbconvert_exporter": "python",
   "pygments_lexer": "ipython3",
   "version": "3.7.0"
  }
 },
 "nbformat": 4,
 "nbformat_minor": 2
}
