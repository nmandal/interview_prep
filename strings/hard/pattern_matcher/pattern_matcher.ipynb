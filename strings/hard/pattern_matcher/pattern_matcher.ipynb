{
 "cells": [
  {
   "cell_type": "code",
   "execution_count": 1,
   "metadata": {},
   "outputs": [
    {
     "name": "stdout",
     "output_type": "stream",
     "text": [
      "Overwriting pattern_matcher.py\n"
     ]
    }
   ],
   "source": [
    "%%writefile pattern_matcher.py\n",
    "# O(n^2 + m) time | O(n + m) space\n",
    "def pattern_matcher(pattern, string):\n",
    "    if len(pattern) > len(string):\n",
    "        return []\n",
    "    new_pattern = get(pattern)\n",
    "    did_switch = new_pattern[0] != pattern[0]\n",
    "    counts = {\"x\": 0, \"y\": 0}\n",
    "    first_y_pos = get_counts_and_first_y_pos(new_pattern, counts)\n",
    "    if counts[\"y\"] != 0:\n",
    "        for len_of_x in range(1, len(string)):\n",
    "            len_of_y = (len(string) - len_of_x * counts[\"x\"]) / counts[\"y\"]\n",
    "            if len_of_y <= 0 or len_of_y % 1 != 0:\n",
    "                continue\n",
    "            len_of_y = int(len_of_y)\n",
    "            y_idx = first_y_pos * len_of_x\n",
    "            x = string[:len_of_x]\n",
    "            y = string[y_idx:y_idx+len_of_y]\n",
    "            pot_match = map(lambda char: x if char == \"x\" else y, new_pattern)\n",
    "            if string == \"\".join(pot_match):\n",
    "                return [x, y] if not did_switch else [y, x]\n",
    "    else:\n",
    "        len_of_x = len(string) / counts[\"x\"]\n",
    "        if len_of_x % 1 == 0:\n",
    "            len_of_x = in(len_of_x)\n",
    "            x = string[:len_of_x]\n",
    "            pot_match = map(lambda char: x, new_pattern)\n",
    "            if string == \"\".join(pot_match):\n",
    "                return [x, \"\"] if not did_switch else [\"\", x]\n",
    "    return []\n",
    "\n",
    "def get_new_pattern(pattern):\n",
    "    pattern_letters = list(pattern):\n",
    "    if pattern[0] == 'x':\n",
    "        return pattern_letters\n",
    "    else:\n",
    "        return list(map(lambda char: 'x' if char == 'y' else 'y', pattern_letters))\n",
    "    \n",
    "def get_counts_and_first_y_pos(patter, counts):\n",
    "    first_y_pos = None\n",
    "    for i, char in enumerate(pattern):\n",
    "        counts[char] += 1\n",
    "        if char == \"y\" and first_y_pos is None:\n",
    "            first_y_pos = i\n",
    "    return first_y_pos\n"
   ]
  },
  {
   "cell_type": "code",
   "execution_count": null,
   "metadata": {},
   "outputs": [],
   "source": []
  }
 ],
 "metadata": {
  "kernelspec": {
   "display_name": "Python 3",
   "language": "python",
   "name": "python3"
  },
  "language_info": {
   "codemirror_mode": {
    "name": "ipython",
    "version": 3
   },
   "file_extension": ".py",
   "mimetype": "text/x-python",
   "name": "python",
   "nbconvert_exporter": "python",
   "pygments_lexer": "ipython3",
   "version": "3.7.0"
  }
 },
 "nbformat": 4,
 "nbformat_minor": 2
}
