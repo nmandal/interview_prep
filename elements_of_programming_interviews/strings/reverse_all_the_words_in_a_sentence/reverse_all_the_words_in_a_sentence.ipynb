{
 "cells": [
  {
   "cell_type": "code",
   "execution_count": 2,
   "metadata": {},
   "outputs": [
    {
     "name": "stdout",
     "output_type": "stream",
     "text": [
      "Overwriting reverse_words.py\n"
     ]
    }
   ],
   "source": [
    "%%writefile reverse_words.py\n",
    "# O(n) time | O(1) space\n",
    "\n",
    "# Assume s is a string encoded as bytearray\n",
    "def reverse_words(s):\n",
    "    # First, reverse the whole string\n",
    "    s.reverse()\n",
    "    \n",
    "    def reverse_range(s, start, end):\n",
    "        while start < end:\n",
    "            s[start], s[end] = s[end], s[start]\n",
    "            start, end = start + 1, end - 1\n",
    "    start = 0\n",
    "    while True:\n",
    "        end = s.find(b' ', start)\n",
    "        if end < 0:\n",
    "            break\n",
    "        # Reverse each word in the string\n",
    "        reverse_range(s, start, end - 1)\n",
    "        start = end + 1\n",
    "    # Reverse the last word\n",
    "    reverse_range(s, start, len(s) - 1)\n"
   ]
  },
  {
   "cell_type": "code",
   "execution_count": null,
   "metadata": {},
   "outputs": [],
   "source": []
  }
 ],
 "metadata": {
  "kernelspec": {
   "display_name": "Python 3",
   "language": "python",
   "name": "python3"
  },
  "language_info": {
   "codemirror_mode": {
    "name": "ipython",
    "version": 3
   },
   "file_extension": ".py",
   "mimetype": "text/x-python",
   "name": "python",
   "nbconvert_exporter": "python",
   "pygments_lexer": "ipython3",
   "version": "3.7.0"
  }
 },
 "nbformat": 4,
 "nbformat_minor": 2
}
