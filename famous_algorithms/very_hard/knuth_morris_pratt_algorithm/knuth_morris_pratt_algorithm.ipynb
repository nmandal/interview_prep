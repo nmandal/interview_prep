{
 "cells": [
  {
   "cell_type": "code",
   "execution_count": 1,
   "metadata": {},
   "outputs": [
    {
     "name": "stdout",
     "output_type": "stream",
     "text": [
      "Writing knuth_morris_pratt_algorithm.py\n"
     ]
    }
   ],
   "source": [
    "%%writefile knuth_morris_pratt_algorithm.py\n",
    "# O(n+m) time | O(m) space\n",
    "def knuth_morris_pratt_algorithm(string, substring):\n",
    "    pattern = build_patterm(substring)\n",
    "    return does_match(string, substring, pattern)\n",
    "\n",
    "def build_pattern(substring):\n",
    "    pattern = [-1 for i in substring]\n",
    "    j = 0\n",
    "    i = 1\n",
    "    while i < len(substring):\n",
    "        if substring[i] == substring[j]:\n",
    "            pattern[i] = j\n",
    "            i += 1\n",
    "            j += 1\n",
    "        elif j > 0:\n",
    "            j = pattern[j-1] + 1\n",
    "        else:\n",
    "            i += 1\n",
    "    return pattern\n",
    "\n",
    "def does_match(string, substring, pattern):\n",
    "    i = 0\n",
    "    j = 0\n",
    "    while i + len(substring) - j <= len(string):\n",
    "        if string[i] == substring[j]:\n",
    "            if j == len(substring) - 1:\n",
    "                return True\n",
    "            i += 1\n",
    "            j += 1\n",
    "        elif j > 0:\n",
    "            j = pattern[j-1] + 1\n",
    "        else:\n",
    "            i += 1\n",
    "    return False\n"
   ]
  },
  {
   "cell_type": "code",
   "execution_count": null,
   "metadata": {},
   "outputs": [],
   "source": []
  }
 ],
 "metadata": {
  "kernelspec": {
   "display_name": "Python 3",
   "language": "python",
   "name": "python3"
  },
  "language_info": {
   "codemirror_mode": {
    "name": "ipython",
    "version": 3
   },
   "file_extension": ".py",
   "mimetype": "text/x-python",
   "name": "python",
   "nbconvert_exporter": "python",
   "pygments_lexer": "ipython3",
   "version": "3.7.0"
  }
 },
 "nbformat": 4,
 "nbformat_minor": 2
}
