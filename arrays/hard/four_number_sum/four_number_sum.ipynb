{
 "cells": [
  {
   "cell_type": "code",
   "execution_count": 2,
   "metadata": {},
   "outputs": [
    {
     "name": "stdout",
     "output_type": "stream",
     "text": [
      "Overwriting four_number_sum.py\n"
     ]
    }
   ],
   "source": [
    "%%writefile four_number_sum.py\n",
    "# Average: O(n^2) time | O(n^2) space\n",
    "# Worst: O(n^3) time | O(n^2) space\n",
    "def four_number_sum(arr, target):\n",
    "    pair_sums = {}\n",
    "    quadruplets = []\n",
    "    for i in range(1, len(arr) - 1):\n",
    "        for j in range(i+1, len(arr)):\n",
    "            curr = arr[i] + arr[j]\n",
    "            diff = target - curr\n",
    "            if diff in pair_sums:\n",
    "                for pair in pair_sums[diff]:\n",
    "                    quadruplets.append(pair + [arr[i], arr[j]])\n",
    "        for k in range(0, i):\n",
    "            curr = arr[i] + arr[k]\n",
    "            if curr not in pair_sums:\n",
    "                pair_sums[curr] = [[arr[k], arr[i]]]\n",
    "            else:\n",
    "                pair_sums[curr].append([arr[k], arr[i]])\n",
    "        return quadruplets\n"
   ]
  },
  {
   "cell_type": "code",
   "execution_count": null,
   "metadata": {},
   "outputs": [],
   "source": []
  }
 ],
 "metadata": {
  "kernelspec": {
   "display_name": "Python 3",
   "language": "python",
   "name": "python3"
  },
  "language_info": {
   "codemirror_mode": {
    "name": "ipython",
    "version": 3
   },
   "file_extension": ".py",
   "mimetype": "text/x-python",
   "name": "python",
   "nbconvert_exporter": "python",
   "pygments_lexer": "ipython3",
   "version": "3.7.0"
  }
 },
 "nbformat": 4,
 "nbformat_minor": 2
}
