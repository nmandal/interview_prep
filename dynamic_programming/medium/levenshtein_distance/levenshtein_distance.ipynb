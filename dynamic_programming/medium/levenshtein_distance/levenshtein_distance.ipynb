{
 "cells": [
  {
   "cell_type": "code",
   "execution_count": 30,
   "metadata": {},
   "outputs": [
    {
     "name": "stdout",
     "output_type": "stream",
     "text": [
      "Writing levenshtein_distance_extra_space.py\n"
     ]
    }
   ],
   "source": [
    "%%writefile levenshtein_distance_extra_space.py\n",
    "# O(nm) time | O(nm) space\n",
    "def levenshtein_distance(str1, str2):\n",
    "    edits = [[x for x in range(len(str1) + 1)] for y in range(len(str2) + 1)]\n",
    "    for i in range(1, len(str2) + 1):\n",
    "        edits[i][0] = edits[i-1][0] + 1\n",
    "    for i in range(1, len(str2) + 1):\n",
    "        for j in range(1, len(str1) + 1):\n",
    "            if str2[i-1] == str1[j-1]:\n",
    "                edits[i][j] = edits[i-1][j-1]\n",
    "            else:\n",
    "                edits[i][j] = 1 + min(edits[i-1][j-1], edits[i][j-1], edits[i-1][j])\n",
    "    return edits[-1][-1]"
   ]
  },
  {
   "cell_type": "code",
   "execution_count": 31,
   "metadata": {},
   "outputs": [
    {
     "name": "stdout",
     "output_type": "stream",
     "text": [
      "Writing levenshtein_distance_less_space.py\n"
     ]
    }
   ],
   "source": [
    "%%writefile levenshtein_distance_less_space.py\n",
    "# O(nm) time | O(min(n,m)) space\n",
    "def levenshtein_distance(str1, str2):\n",
    "    small = str1 if len(str1) < len(str2) else str2\n",
    "    big = str1 if len(str1) >= len(str2) else str2\n",
    "    even_edits = [x for x in range(len(small) + 1)]\n",
    "    odd_edits = [None for x in range(small) + 1]\n",
    "    for i in range(i, len(big) + 1):\n",
    "        if i % 2 == 1:\n",
    "            current_edits = odd_edits\n",
    "            previous_edits = even_edits\n",
    "        else:\n",
    "            current_edits = even_edits\n",
    "            previous_edits = odd_edits\n",
    "        current_edits[0] = i\n",
    "        for j in range(1, len(small) + 1):\n",
    "            if big[i-1] == small[j-1]:\n",
    "                current_edits[j] = previous_edits[j-1]\n",
    "            else:\n",
    "                current_edits[j] = 1 + min(previous_edits[j-1], previous_edits[j], current_edits[j-1])\n",
    "    return even_edits[-1] if len(big) % 2 == 0 else odd_edits[-1]"
   ]
  },
  {
   "cell_type": "code",
   "execution_count": null,
   "metadata": {},
   "outputs": [],
   "source": []
  }
 ],
 "metadata": {
  "kernelspec": {
   "display_name": "Python 3",
   "language": "python",
   "name": "python3"
  },
  "language_info": {
   "codemirror_mode": {
    "name": "ipython",
    "version": 3
   },
   "file_extension": ".py",
   "mimetype": "text/x-python",
   "name": "python",
   "nbconvert_exporter": "python",
   "pygments_lexer": "ipython3",
   "version": "3.7.0"
  }
 },
 "nbformat": 4,
 "nbformat_minor": 2
}
