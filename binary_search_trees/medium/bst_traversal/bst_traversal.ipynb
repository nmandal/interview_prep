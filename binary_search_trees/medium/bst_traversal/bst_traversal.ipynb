{
 "cells": [
  {
   "cell_type": "code",
   "execution_count": 1,
   "metadata": {},
   "outputs": [
    {
     "name": "stdout",
     "output_type": "stream",
     "text": [
      "Writing bst_traversal.py\n"
     ]
    }
   ],
   "source": [
    "%%writefile bst_traversal.py\n",
    "# O(N) time | O(N) space\n",
    "def in_order_traversal(tree, array):\n",
    "    if tree is not None:\n",
    "        in_order_traversal(tree.left, array)\n",
    "        array.append(tree.value)\n",
    "        in_order_traversal(tree.right, array)\n",
    "    return array\n",
    "        \n",
    "# O(N) time | O(N) space\n",
    "def pre_order_traversal(tree, array):\n",
    "    if tree is not None:\n",
    "        array.append(tree.value)\n",
    "        pre_order_traversal(tree.left, array)\n",
    "        pre_order_traversal(tree.right, array)\n",
    "    return array\n",
    "        \n",
    "# O(N) time | O(N) space\n",
    "def post_order_traversal(tree, array):\n",
    "    if tree is not None:\n",
    "        post_order_traversal(tree.left, array)\n",
    "        post_order_traversal(tree.right, array)\n",
    "        array.append(tree.value)\n",
    "    return array\n",
    "        "
   ]
  },
  {
   "cell_type": "code",
   "execution_count": null,
   "metadata": {},
   "outputs": [],
   "source": []
  }
 ],
 "metadata": {
  "kernelspec": {
   "display_name": "Python 3",
   "language": "python",
   "name": "python3"
  },
  "language_info": {
   "codemirror_mode": {
    "name": "ipython",
    "version": 3
   },
   "file_extension": ".py",
   "mimetype": "text/x-python",
   "name": "python",
   "nbconvert_exporter": "python",
   "pygments_lexer": "ipython3",
   "version": "3.7.0"
  }
 },
 "nbformat": 4,
 "nbformat_minor": 2
}
