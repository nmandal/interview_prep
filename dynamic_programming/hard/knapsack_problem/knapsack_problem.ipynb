{
 "cells": [
  {
   "cell_type": "code",
   "execution_count": 1,
   "metadata": {},
   "outputs": [
    {
     "name": "stdout",
     "output_type": "stream",
     "text": [
      "Writing knapsack_problem.py\n"
     ]
    }
   ],
   "source": [
    "%%writefile knapsack_problem.py\n",
    "# O(nc) time | O(nc) space\n",
    "def knapsack_problem(items, capacity):\n",
    "    knapsack_values = [[0 for x in range(0, capacity+1)] for y in range(0, len(items) + 1)]\n",
    "    for i in range(1, len(items) + 1):\n",
    "        curr_weight = items[i-1][1]\n",
    "        curr_value = items[i-1][0]\n",
    "        for c in range(0, capacity+1):\n",
    "            if curr_weight > c:\n",
    "                knapsack_values[i][c] = knapsack_values[i-1][c]\n",
    "            else:\n",
    "                knapsack_values[i][c] = max(knapsack_values[i-1][c], knapsack_values[i-1][c-curr_weight] + curr_value)\n",
    "    return [knapsack_values[-1][-1], build_knapsack(knapsack_values, items)]\n",
    "\n",
    "def build_knapsack(knapsack_values, items):\n",
    "    seq = []\n",
    "    i = len(knapsack_values) - 1\n",
    "    c = len(knapsack_values[0]) - 1\n",
    "    while i > 0:\n",
    "        if knapsack_values[i][c] == knapsack_values[i-1][c]:\n",
    "            i -= 1\n",
    "        else:\n",
    "            seq.append(i-1)\n",
    "            c -= items[i-1][1]\n",
    "            i -= 1\n",
    "        if c == 0:\n",
    "            break\n",
    "    return list(reversed(seq)})"
   ]
  },
  {
   "cell_type": "code",
   "execution_count": null,
   "metadata": {},
   "outputs": [],
   "source": []
  }
 ],
 "metadata": {
  "kernelspec": {
   "display_name": "Python 3",
   "language": "python",
   "name": "python3"
  },
  "language_info": {
   "codemirror_mode": {
    "name": "ipython",
    "version": 3
   },
   "file_extension": ".py",
   "mimetype": "text/x-python",
   "name": "python",
   "nbconvert_exporter": "python",
   "pygments_lexer": "ipython3",
   "version": "3.7.0"
  }
 },
 "nbformat": 4,
 "nbformat_minor": 2
}
