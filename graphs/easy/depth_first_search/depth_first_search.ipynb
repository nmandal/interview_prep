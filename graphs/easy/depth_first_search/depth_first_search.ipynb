{
 "cells": [
  {
   "cell_type": "code",
   "execution_count": 1,
   "metadata": {},
   "outputs": [
    {
     "name": "stdout",
     "output_type": "stream",
     "text": [
      "Writing depth_first_search.py\n"
     ]
    }
   ],
   "source": [
    "%%writefile depth_first_search.py\n",
    "# O(V + E) time | O(V) space\n",
    "class Node:\n",
    "    def __init__(self, name):\n",
    "        self.children = []\n",
    "        self.name = name\n",
    "    \n",
    "    def add_child(self, name):\n",
    "        self.children.append(Node(name))\n",
    "        \n",
    "    def depth_first_search(self, array):\n",
    "        array.append(self.name)\n",
    "        for child in self.children:\n",
    "            child.depth_first_search(array)\n",
    "        return array"
   ]
  },
  {
   "cell_type": "code",
   "execution_count": null,
   "metadata": {},
   "outputs": [],
   "source": []
  }
 ],
 "metadata": {
  "kernelspec": {
   "display_name": "Python 3",
   "language": "python",
   "name": "python3"
  },
  "language_info": {
   "codemirror_mode": {
    "name": "ipython",
    "version": 3
   },
   "file_extension": ".py",
   "mimetype": "text/x-python",
   "name": "python",
   "nbconvert_exporter": "python",
   "pygments_lexer": "ipython3",
   "version": "3.7.0"
  }
 },
 "nbformat": 4,
 "nbformat_minor": 2
}
