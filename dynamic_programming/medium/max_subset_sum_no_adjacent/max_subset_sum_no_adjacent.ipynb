{
 "cells": [
  {
   "cell_type": "code",
   "execution_count": 1,
   "metadata": {},
   "outputs": [
    {
     "name": "stdout",
     "output_type": "stream",
     "text": [
      "Writing max_subset_sum_no_adjacent.py\n"
     ]
    }
   ],
   "source": [
    "%%writefile max_subset_sum_no_adjacent.py\n",
    "# O(N) time | O(1) space\n",
    "def max_subset_sum_no_adjacent(array):\n",
    "    if not len(array):\n",
    "        return -1\n",
    "    if len(array) == 1:\n",
    "        return array[0]\n",
    "    second = array[0]\n",
    "    first = max(array[0], array[1])\n",
    "    for i in range(2, len(array)):\n",
    "        curr = max(first, second+array[i])\n",
    "        second = first\n",
    "        first = current\n",
    "    return first"
   ]
  },
  {
   "cell_type": "code",
   "execution_count": null,
   "metadata": {},
   "outputs": [],
   "source": []
  }
 ],
 "metadata": {
  "kernelspec": {
   "display_name": "Python 3",
   "language": "python",
   "name": "python3"
  },
  "language_info": {
   "codemirror_mode": {
    "name": "ipython",
    "version": 3
   },
   "file_extension": ".py",
   "mimetype": "text/x-python",
   "name": "python",
   "nbconvert_exporter": "python",
   "pygments_lexer": "ipython3",
   "version": "3.7.0"
  }
 },
 "nbformat": 4,
 "nbformat_minor": 2
}
