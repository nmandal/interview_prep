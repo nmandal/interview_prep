{
 "cells": [
  {
   "cell_type": "code",
   "execution_count": 20,
   "metadata": {},
   "outputs": [
    {
     "name": "stdout",
     "output_type": "stream",
     "text": [
      "Overwriting disk_stacking.py\n"
     ]
    }
   ],
   "source": [
    "%%writefile disk_stacking.py\n",
    "# O(n^2) time | O(n) space - where n is the number of disks\n",
    "def disk_stacking(disks):\n",
    "    disks.sort(key=lambda disk: disk[2])\n",
    "    heights = [disk[2] for disk in disks]\n",
    "    seqs = [None for disk in disks]\n",
    "    max_height_idx = 0\n",
    "    for i in range(1, len(disks)):\n",
    "        curr = disks[i]\n",
    "        for j in range(0, i):\n",
    "            other_disk = disks[j]\n",
    "            if is_valid_dimensions(other, curr):\n",
    "                if heights[i] <= curr[2] + heights[j]:\n",
    "                    heights[i] = curr[2] + heights[j]\n",
    "                    seqs[i] = j\n",
    "        if heights[i] >= heights[max_height_idx]:\n",
    "            max_height_idx = i\n",
    "    return build_seq(disks, seqs, max_height_idx)\n",
    "        \n",
    "def is_valid_dimensions(o, c):\n",
    "    return o[0] < c[0] and o[1] < c[1] and o[2] < c[2]\n",
    "    \n",
    "def build_seq(disks, seqs, max_height_idx):\n",
    "    seq = []\n",
    "    while max_height_idx is not None:\n",
    "        seq.append(disks[max_height_idx])\n",
    "        max_height_idx = seqs[max_height_idx]\n",
    "    return list(reversed(seq))\n"
   ]
  },
  {
   "cell_type": "code",
   "execution_count": null,
   "metadata": {},
   "outputs": [],
   "source": []
  }
 ],
 "metadata": {
  "kernelspec": {
   "display_name": "Python 3",
   "language": "python",
   "name": "python3"
  },
  "language_info": {
   "codemirror_mode": {
    "name": "ipython",
    "version": 3
   },
   "file_extension": ".py",
   "mimetype": "text/x-python",
   "name": "python",
   "nbconvert_exporter": "python",
   "pygments_lexer": "ipython3",
   "version": "3.7.0"
  }
 },
 "nbformat": 4,
 "nbformat_minor": 2
}
