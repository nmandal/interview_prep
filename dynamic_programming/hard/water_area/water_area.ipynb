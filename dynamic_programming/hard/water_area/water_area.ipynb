{
 "cells": [
  {
   "cell_type": "code",
   "execution_count": 1,
   "metadata": {},
   "outputs": [
    {
     "name": "stdout",
     "output_type": "stream",
     "text": [
      "Writing water_area.py\n"
     ]
    }
   ],
   "source": [
    "%%writefile water_area.py\n",
    "# O(n) time | O(n) space - where n is the length of the input array\n",
    "def water_area(heights):\n",
    "    maxes = [0 for x in heights]\n",
    "    left_max = 0\n",
    "    for i in range(len(heights)):\n",
    "        height = heights[i]\n",
    "        maxes[i] = left_max\n",
    "        left_max = max(left_max, height)\n",
    "    right_max = 0\n",
    "    for i in reversed(range(len(heights))):\n",
    "        height = heights[i]\n",
    "        min_height = min(right_max, maxes[i])\n",
    "        if height < min_height:\n",
    "            maxes[i] = min_height - height\n",
    "        else:\n",
    "            maxes[i] = 0\n",
    "        right_max = max(right_max, height)\n",
    "    return sum(maxes)\n"
   ]
  },
  {
   "cell_type": "code",
   "execution_count": null,
   "metadata": {},
   "outputs": [],
   "source": []
  }
 ],
 "metadata": {
  "kernelspec": {
   "display_name": "Python 3",
   "language": "python",
   "name": "python3"
  },
  "language_info": {
   "codemirror_mode": {
    "name": "ipython",
    "version": 3
   },
   "file_extension": ".py",
   "mimetype": "text/x-python",
   "name": "python",
   "nbconvert_exporter": "python",
   "pygments_lexer": "ipython3",
   "version": "3.7.0"
  }
 },
 "nbformat": 4,
 "nbformat_minor": 2
}
