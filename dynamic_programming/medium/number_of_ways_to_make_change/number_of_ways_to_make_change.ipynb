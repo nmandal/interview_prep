{
 "cells": [
  {
   "cell_type": "code",
   "execution_count": 1,
   "metadata": {},
   "outputs": [
    {
     "name": "stdout",
     "output_type": "stream",
     "text": [
      "Writing number_of_ways_to_make_change.py\n"
     ]
    }
   ],
   "source": [
    "%%writefile number_of_ways_to_make_change.py\n",
    "# O(n*d) time | O(n) space\n",
    "def number_of_ways_to_make_change(n, denoms):\n",
    "    ways = [0 for amount in range(n+1)]\n",
    "    ways[0] = 1\n",
    "    for denom in denoms:\n",
    "        for amount in range(1, n+1):\n",
    "            if denom <= amount:\n",
    "                ways[amount] += ways[amount-denom]\n",
    "    return ways[n]"
   ]
  },
  {
   "cell_type": "code",
   "execution_count": null,
   "metadata": {},
   "outputs": [],
   "source": []
  }
 ],
 "metadata": {
  "kernelspec": {
   "display_name": "Python 3",
   "language": "python",
   "name": "python3"
  },
  "language_info": {
   "codemirror_mode": {
    "name": "ipython",
    "version": 3
   },
   "file_extension": ".py",
   "mimetype": "text/x-python",
   "name": "python",
   "nbconvert_exporter": "python",
   "pygments_lexer": "ipython3",
   "version": "3.7.0"
  }
 },
 "nbformat": 4,
 "nbformat_minor": 2
}
