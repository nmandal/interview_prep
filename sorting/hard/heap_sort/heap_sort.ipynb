{
 "cells": [
  {
   "cell_type": "code",
   "execution_count": null,
   "metadata": {},
   "outputs": [],
   "source": [
    "%%writefile heap_sort.py\n",
    "# Best: O(n log n) time | O(1) space\n",
    "# Average: O(n log n) time | O(1) space\n",
    "# Worst: O(n log n) time | O(1) space\n",
    "def heap_sort(array):\n",
    "    build_max_heap(array)\n",
    "    for end_idx in reversed(range(1, len(array))):\n",
    "        swap(0, end_idx, array)\n",
    "        sift_down(0, end_idx - 1, array)\n",
    "    return array\n",
    "\n",
    "def build_max_heap(array):\n",
    "    first_parent_idx = (len(array) - 2) // 2\n",
    "    for curr_idx in reversed(range(first_parent_idx + 1)):\n",
    "        sift_down(curr_idx, len(array) - 1, array)\n",
    "\n",
    "def sift_down(curr_idx, end_idx, heap):\n",
    "    child_one_idx = curr_idx * 2 + 1\n",
    "    while child_one_idx <= end_idx:\n",
    "        child_two_idx = curr_idx * 2 + 2 if curr_idx * 2 + 2 <= end_idx else -1\n",
    "        if child_two_idx > -1 and heap[child_two_idx] > heap[child_one_idx]:\n",
    "            idx_to_swap = child_two_idx\n",
    "        else:\n",
    "            idx_to_swap = child_one_idx\n",
    "        if heap[idx_to_swap] > heap[curr_idx]:\n",
    "            swap(curr_idx, idx_to_swap, heap)\n",
    "            curr_idx = idx_to_swap\n",
    "            child_one_idx = curr_idx * 2 + 1\n",
    "        else:\n",
    "            return\n",
    "\n",
    "def swap(i, j, array):\n",
    "    array[i], array[j] = array[j], array[i]"
   ]
  }
 ],
 "metadata": {
  "kernelspec": {
   "display_name": "Python 3",
   "language": "python",
   "name": "python3"
  },
  "language_info": {
   "codemirror_mode": {
    "name": "ipython",
    "version": 3
   },
   "file_extension": ".py",
   "mimetype": "text/x-python",
   "name": "python",
   "nbconvert_exporter": "python",
   "pygments_lexer": "ipython3",
   "version": "3.7.0"
  }
 },
 "nbformat": 4,
 "nbformat_minor": 2
}
