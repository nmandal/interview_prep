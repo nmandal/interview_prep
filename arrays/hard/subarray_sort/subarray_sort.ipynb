{
 "cells": [
  {
   "cell_type": "code",
   "execution_count": 2,
   "metadata": {},
   "outputs": [
    {
     "name": "stdout",
     "output_type": "stream",
     "text": [
      "Overwriting subarray_sort.py\n"
     ]
    }
   ],
   "source": [
    "%%writefile subarray_sort.py\n",
    "# O(n) time | O(1) space\n",
    "def subarray_sort(arr):\n",
    "    min_ooo = float('inf')\n",
    "    max_ooo = float('-inf')\n",
    "    for i, num in enumerate(arr):\n",
    "        if is_ooo(i, num, arr):\n",
    "            min_ooo = min(min_ooo, num)\n",
    "            max_ooo = max(max_ooo, num)\n",
    "    if min_ooo == float('inf'):\n",
    "        return [-1, -1]\n",
    "    left = 0\n",
    "    right = len(arr)\n",
    "    while min_ooo >= arr[left]:\n",
    "        left += 1\n",
    "    while max_ooo <= arr[right]:\n",
    "        right -= 1\n",
    "    return [left, right]\n",
    "\n",
    "def is_ooo(i, num, arr):\n",
    "    if i == 0:\n",
    "        return num > arr[i+1]\n",
    "    if i == len(arr) - 1:\n",
    "        return num < arr[i-1]\n",
    "    return num > arr[i+1] or num < arr[i-1]\n"
   ]
  },
  {
   "cell_type": "code",
   "execution_count": null,
   "metadata": {},
   "outputs": [],
   "source": []
  }
 ],
 "metadata": {
  "kernelspec": {
   "display_name": "Python 3",
   "language": "python",
   "name": "python3"
  },
  "language_info": {
   "codemirror_mode": {
    "name": "ipython",
    "version": 3
   },
   "file_extension": ".py",
   "mimetype": "text/x-python",
   "name": "python",
   "nbconvert_exporter": "python",
   "pygments_lexer": "ipython3",
   "version": "3.7.0"
  }
 },
 "nbformat": 4,
 "nbformat_minor": 2
}
