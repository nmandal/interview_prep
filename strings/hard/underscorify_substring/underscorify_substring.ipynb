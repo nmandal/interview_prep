{
 "cells": [
  {
   "cell_type": "code",
   "execution_count": 3,
   "metadata": {},
   "outputs": [
    {
     "name": "stdout",
     "output_type": "stream",
     "text": [
      "Overwriting underscorify_substring.py\n"
     ]
    }
   ],
   "source": [
    "%%writefile underscorify_substring.py\n",
    "# O(n*m) time | O(n) space\n",
    "def underscorify_substring(string, substring):\n",
    "    locations = collapse(get_locations(string, substring))\n",
    "    return underscorify(string, locations)\n",
    "\n",
    "def get_locations(string, substring):\n",
    "    locs = []\n",
    "    start_idx = 0\n",
    "    while start_idx < len(string):\n",
    "        next_idx = string.find(substring, start_idx)\n",
    "        if next_idx != -1:\n",
    "            locs.append([next_idx, next_idx + len(substring)])\n",
    "            start_idx = next_idx + 1\n",
    "        else:\n",
    "            break\n",
    "    return locs\n",
    "\n",
    "def collapse(locs):\n",
    "    if not len(locs):\n",
    "        return locs\n",
    "    new_locs = [locs[0]]\n",
    "    prev = new_locs[0]\n",
    "    for i in range(1, len(locs)):\n",
    "        curr = locs[i]\n",
    "        if curr[0] <= prev[1]:\n",
    "            prev[1] = curr[1]\n",
    "        else:\n",
    "            new_locs.append(curr)\n",
    "            prev = curr\n",
    "    return new_locs\n",
    "\n",
    "def underscorify(string, locs):\n",
    "    locs_idx = 0\n",
    "    str_idx = 0\n",
    "    in_between_underscores = False\n",
    "    final_chars = []\n",
    "    i = 0\n",
    "    while str_idx < len(string) and locs_idx < len(locs):\n",
    "        if str_idx == locs[locs_idx][i]:\n",
    "            final_chars.append('_')\n",
    "            in_between_underscores = not in_between_underscores\n",
    "            if not in_between_underscores:\n",
    "                locs_idx += 1\n",
    "            i = 0 if i == 1 else 1\n",
    "        final_chars.append(string[str_idx])\n",
    "        str_idx += 1\n",
    "    if locs_idx < len(locs):\n",
    "        final_chars.append('_')\n",
    "    elif str_idx < len(string):\n",
    "        final_chars.append(string[str_idx:])\n",
    "    return \"\".join(final_chars)\n"
   ]
  },
  {
   "cell_type": "code",
   "execution_count": null,
   "metadata": {},
   "outputs": [],
   "source": []
  }
 ],
 "metadata": {
  "kernelspec": {
   "display_name": "Python 3",
   "language": "python",
   "name": "python3"
  },
  "language_info": {
   "codemirror_mode": {
    "name": "ipython",
    "version": 3
   },
   "file_extension": ".py",
   "mimetype": "text/x-python",
   "name": "python",
   "nbconvert_exporter": "python",
   "pygments_lexer": "ipython3",
   "version": "3.7.0"
  }
 },
 "nbformat": 4,
 "nbformat_minor": 2
}
