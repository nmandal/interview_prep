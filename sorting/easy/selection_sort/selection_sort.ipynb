{
 "cells": [
  {
   "cell_type": "code",
   "execution_count": 1,
   "metadata": {},
   "outputs": [
    {
     "name": "stdout",
     "output_type": "stream",
     "text": [
      "Writing selection_sort.py\n"
     ]
    }
   ],
   "source": [
    "%%writefile selection_sort.py\n",
    "# Best: O(n^2) time | O(1) space\n",
    "# Average: O(n^2) time | O(1) space\n",
    "# Worst: O(n^2) time | O(1) space\n",
    "def selection_sort(arr):\n",
    "    curr = 0\n",
    "    while curr < len(arr) - 1:\n",
    "        small = curr\n",
    "        for i in range(curr + 1, len(arr)):\n",
    "            if arr[small] > arr[i]:\n",
    "                small = i\n",
    "        swap(curr, small, arr)\n",
    "        curr += 1\n",
    "    return arr\n",
    "\n",
    "def swap(i, j, arr):\n",
    "    arr[i], arr[j] = arr[j], arr[i]"
   ]
  },
  {
   "cell_type": "code",
   "execution_count": null,
   "metadata": {},
   "outputs": [],
   "source": []
  }
 ],
 "metadata": {
  "kernelspec": {
   "display_name": "Python 3",
   "language": "python",
   "name": "python3"
  },
  "language_info": {
   "codemirror_mode": {
    "name": "ipython",
    "version": 3
   },
   "file_extension": ".py",
   "mimetype": "text/x-python",
   "name": "python",
   "nbconvert_exporter": "python",
   "pygments_lexer": "ipython3",
   "version": "3.7.0"
  }
 },
 "nbformat": 4,
 "nbformat_minor": 2
}
