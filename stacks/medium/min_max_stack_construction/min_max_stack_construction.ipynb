{
 "cells": [
  {
   "cell_type": "code",
   "execution_count": 1,
   "metadata": {},
   "outputs": [
    {
     "name": "stdout",
     "output_type": "stream",
     "text": [
      "Writing min_max_stack_construction.py\n"
     ]
    }
   ],
   "source": [
    "%%writefile min_max_stack_construction.py\n",
    "class MinMaxStack:\n",
    "    def __init__(self):\n",
    "        self.min_max_stack = []\n",
    "        self.stack = []\n",
    "        \n",
    "    def peek(self):\n",
    "        return self.stack[-1]\n",
    "    \n",
    "    def pop(self):\n",
    "        self.min_max_stack.pop()\n",
    "        return self.stack.pop()\n",
    "    \n",
    "    def push(self, number):\n",
    "        new_min_max = {\"min\": number, \"max\": number}\n",
    "        if len(self.stack):\n",
    "            last_min_max = self.min_max_stack[-1]\n",
    "            new_min_max[\"min\"] = min(last_min_max[\"min\"], number)\n",
    "            new_min_max[\"max\"] = max(last_min_max[\"max\"], number)\n",
    "        self.min_max_stack.append(new_min_max)\n",
    "        self.stack.append(number)\n",
    "\n",
    "    def get_min(self):\n",
    "        return self.min_max_stack[-1][\"min\"]\n",
    "    \n",
    "    def get_max(self):\n",
    "        return self.min_max_stack[-1][\"max\"]"
   ]
  },
  {
   "cell_type": "code",
   "execution_count": null,
   "metadata": {},
   "outputs": [],
   "source": []
  }
 ],
 "metadata": {
  "kernelspec": {
   "display_name": "Python 3",
   "language": "python",
   "name": "python3"
  },
  "language_info": {
   "codemirror_mode": {
    "name": "ipython",
    "version": 3
   },
   "file_extension": ".py",
   "mimetype": "text/x-python",
   "name": "python",
   "nbconvert_exporter": "python",
   "pygments_lexer": "ipython3",
   "version": "3.7.0"
  }
 },
 "nbformat": 4,
 "nbformat_minor": 2
}
