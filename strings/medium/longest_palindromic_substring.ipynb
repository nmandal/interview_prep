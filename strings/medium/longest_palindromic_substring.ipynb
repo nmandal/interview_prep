{
 "cells": [
  {
   "cell_type": "code",
   "execution_count": 3,
   "metadata": {},
   "outputs": [
    {
     "name": "stdout",
     "output_type": "stream",
     "text": [
      "Writing longest_palindromic_substring.py\n"
     ]
    }
   ],
   "source": [
    "%%writefile longest_palindromic_substring.py\n",
    "# O(n^2) time | O(1) space\n",
    "def longest_palindromic_substring(string):\n",
    "    curr_longest = [0,1]\n",
    "    for i in range(1, len(string)):\n",
    "        odd = get_longest_palindrome_from(string, i-1, i+1)\n",
    "        even = get_longest_palindrome_from(string, i-1, i)\n",
    "        longest = max(odd, even, key = lambda x: x[1] - x[0])\n",
    "        curr_longest = max(curr_longest, longest, key = lambda x: x[1] - x[0])\n",
    "    return string[curr_longest[0]:curr_longest[1]]\n",
    "\n",
    "def get_longest_palindrome_from(string, left, right):\n",
    "    while left >= 0 and right < len(string):\n",
    "        if string[left] != string[right]:\n",
    "            break\n",
    "        left -= 1\n",
    "        right += 1\n",
    "    return [left+1, right]\n"
   ]
  },
  {
   "cell_type": "code",
   "execution_count": null,
   "metadata": {},
   "outputs": [],
   "source": []
  }
 ],
 "metadata": {
  "kernelspec": {
   "display_name": "Python 3",
   "language": "python",
   "name": "python3"
  },
  "language_info": {
   "codemirror_mode": {
    "name": "ipython",
    "version": 3
   },
   "file_extension": ".py",
   "mimetype": "text/x-python",
   "name": "python",
   "nbconvert_exporter": "python",
   "pygments_lexer": "ipython3",
   "version": "3.7.0"
  }
 },
 "nbformat": 4,
 "nbformat_minor": 2
}
