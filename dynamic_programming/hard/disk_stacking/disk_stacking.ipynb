{
 "cells": [
  {
   "cell_type": "code",
   "execution_count": 19,
   "metadata": {},
   "outputs": [
    {
     "name": "stdout",
     "output_type": "stream",
     "text": [
      "Overwriting disk_stacking.py\n"
     ]
    }
   ],
   "source": [
    "%%writefile disk_stacking.py\n",
    "# O(n^2) time | O(n) space - where n is the number of disks\n",
    "def disk_stacking(disks):\n",
    "    disks.sort(key=lambda disk: disk[2])\n",
    "    heights = [disk[2] for disk in disks]\n",
    "    seqs = [None for disk in disks]\n",
    "    max_height_idx = 0\n",
    "    for i in range(1, len(disks)):\n",
    "        curr = disks[i]\n",
    "        for j in range(0, i):\n",
    "            other_disk = disks[j]\n",
    "            if is_valid_dimensions(curr, other):\n",
    "                if heights[i] <= curr[2] + heights[j]:\n",
    "                    heights[i] = curr[2] + heights[j]\n",
    "                    seqs[i] = j\n",
    "        if heights[i] >= heights[max_height_idx]:\n",
    "            max_height_idx = i\n",
    "    return build_seq(disks, seqs, max_height_idx)\n",
    "        \n",
    "def is_valid_dimensions(bottom, top):\n",
    "    return bottom[0] > top[0] and bottom[1] > top[1] and bottom[2] > top[2]\n",
    "    \n",
    "def build_seq(disks, seqs, max_height_idx):\n",
    "    seq = []\n",
    "    while curr_idx is not None:\n",
    "        seq.append(arr[curr_idx])\n",
    "        curr_idx = seqs[curr_idx]\n",
    "    return list(reversed(seq))\n"
   ]
  },
  {
   "cell_type": "code",
   "execution_count": null,
   "metadata": {},
   "outputs": [],
   "source": []
  }
 ],
 "metadata": {
  "kernelspec": {
   "display_name": "Python 3",
   "language": "python",
   "name": "python3"
  },
  "language_info": {
   "codemirror_mode": {
    "name": "ipython",
    "version": 3
   },
   "file_extension": ".py",
   "mimetype": "text/x-python",
   "name": "python",
   "nbconvert_exporter": "python",
   "pygments_lexer": "ipython3",
   "version": "3.7.0"
  }
 },
 "nbformat": 4,
 "nbformat_minor": 2
}
