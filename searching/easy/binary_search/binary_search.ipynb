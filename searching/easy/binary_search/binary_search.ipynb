{
 "cells": [
  {
   "cell_type": "code",
   "execution_count": 4,
   "metadata": {},
   "outputs": [
    {
     "name": "stdout",
     "output_type": "stream",
     "text": [
      "Overwriting binary_search_iterative.py\n"
     ]
    }
   ],
   "source": [
    "%%writefile binary_search_iterative.py\n",
    "# O(log N) time | O(1) space\n",
    "def binary_search(array, target):\n",
    "    low = 0\n",
    "    high = len(array) - 1\n",
    "    \n",
    "    while low <= high:\n",
    "        middle = (low + high) // 2\n",
    "        potential_match = array[middle]\n",
    "        if potential_match == target:\n",
    "            return middle\n",
    "        if target < potential_match:\n",
    "            high = middle - 1\n",
    "        else:\n",
    "            low = middle + 1\n",
    "    return -1"
   ]
  },
  {
   "cell_type": "code",
   "execution_count": 3,
   "metadata": {},
   "outputs": [
    {
     "name": "stdout",
     "output_type": "stream",
     "text": [
      "Overwriting binary_search_recursive.py\n"
     ]
    }
   ],
   "source": [
    "%%writefile binary_search_recursive.py\n",
    "# O(log N) time | O(log N) space\n",
    "def binary_search(array, target):\n",
    "    return _binary_search(array, target, 0, len(array) - 1)\n",
    "\n",
    "def _binary_search(array, target, low, high):\n",
    "    if low > high:\n",
    "        return -1\n",
    "    middle = (low + high) // 2\n",
    "    potential_match = array[middle]\n",
    "    if potential_match == target:\n",
    "        return middle\n",
    "    if target < potential_match:\n",
    "        return _binary_search(array, target, left, middle-1)\n",
    "    return _binary_search(array, target, middle+1, high)"
   ]
  },
  {
   "cell_type": "code",
   "execution_count": null,
   "metadata": {},
   "outputs": [],
   "source": []
  }
 ],
 "metadata": {
  "kernelspec": {
   "display_name": "Python 3",
   "language": "python",
   "name": "python3"
  },
  "language_info": {
   "codemirror_mode": {
    "name": "ipython",
    "version": 3
   },
   "file_extension": ".py",
   "mimetype": "text/x-python",
   "name": "python",
   "nbconvert_exporter": "python",
   "pygments_lexer": "ipython3",
   "version": "3.7.0"
  }
 },
 "nbformat": 4,
 "nbformat_minor": 2
}
