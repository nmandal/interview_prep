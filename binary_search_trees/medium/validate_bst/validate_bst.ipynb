{
 "cells": [
  {
   "cell_type": "code",
   "execution_count": 1,
   "metadata": {},
   "outputs": [
    {
     "name": "stdout",
     "output_type": "stream",
     "text": [
      "Writing validate_bst.py\n"
     ]
    }
   ],
   "source": [
    "%%writefile validate_bst.py\n",
    "# O(N) time | O(d) space\n",
    "def validate_bst(tree):\n",
    "    return _validate_bst(tree, float('-inf'), float('inf'))\n",
    "\n",
    "def _validate_bst(tree, minimum, maximum):\n",
    "    if tree is None:\n",
    "        return True\n",
    "    if tree.value < minimum or tree.value >= maximum:\n",
    "        return False\n",
    "    return _validate_bst(tree.left, minimum, tree.value) and _validate_bst(tree.right, tree.value, maximum)"
   ]
  },
  {
   "cell_type": "code",
   "execution_count": null,
   "metadata": {},
   "outputs": [],
   "source": []
  }
 ],
 "metadata": {
  "kernelspec": {
   "display_name": "Python 3",
   "language": "python",
   "name": "python3"
  },
  "language_info": {
   "codemirror_mode": {
    "name": "ipython",
    "version": 3
   },
   "file_extension": ".py",
   "mimetype": "text/x-python",
   "name": "python",
   "nbconvert_exporter": "python",
   "pygments_lexer": "ipython3",
   "version": "3.7.0"
  }
 },
 "nbformat": 4,
 "nbformat_minor": 2
}
