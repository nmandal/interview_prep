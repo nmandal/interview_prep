{
 "cells": [
  {
   "cell_type": "code",
   "execution_count": 3,
   "metadata": {},
   "outputs": [
    {
     "name": "stdout",
     "output_type": "stream",
     "text": [
      "Overwriting trapping_rain_water.py\n"
     ]
    }
   ],
   "source": [
    "%%writefile trapping_rain_water.py\n",
    "# O(n) time | O(1) space\n",
    "class Solution:\n",
    "    def trap(self, height):\n",
    "        i, j = 0, len(height) - 1\n",
    "        left, right, water = 0\n",
    "        while i < j:\n",
    "            if height[i] < height[j]:\n",
    "                if height[i] > left:\n",
    "                    left = height[i]\n",
    "                else:\n",
    "                    water += left - height[i]\n",
    "                i += 1\n",
    "            else:\n",
    "                if height[j] > right:\n",
    "                    right = height[j]\n",
    "                else:\n",
    "                    water += right - height[j]\n",
    "                j -= 1\n",
    "        return water\n"
   ]
  },
  {
   "cell_type": "code",
   "execution_count": null,
   "metadata": {},
   "outputs": [],
   "source": []
  }
 ],
 "metadata": {
  "kernelspec": {
   "display_name": "Python 3",
   "language": "python",
   "name": "python3"
  },
  "language_info": {
   "codemirror_mode": {
    "name": "ipython",
    "version": 3
   },
   "file_extension": ".py",
   "mimetype": "text/x-python",
   "name": "python",
   "nbconvert_exporter": "python",
   "pygments_lexer": "ipython3",
   "version": "3.7.0"
  }
 },
 "nbformat": 4,
 "nbformat_minor": 2
}
