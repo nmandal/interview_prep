{
 "cells": [
  {
   "cell_type": "code",
   "execution_count": 2,
   "metadata": {},
   "outputs": [
    {
     "name": "stdout",
     "output_type": "stream",
     "text": [
      "Overwriting caesar_cipher_encrypter.py\n"
     ]
    }
   ],
   "source": [
    "%%writefile caesar_cipher_encrypter.py\n",
    "# O(N) time | O(N) space\n",
    "def caesar_cipher_encrypter(string, key):\n",
    "    alpha = list('abcdefghijklmnopqrstuvwxyz')\n",
    "    new_key = key % 26\n",
    "    transformed_string = ''\n",
    "    \n",
    "    for letter in string:\n",
    "        new_letter = get_new_letter(letter, new_key_alpha)\n",
    "    return transformed_string\n",
    "\n",
    "def get_new_letter(letter, key, alpha):\n",
    "    new_letter_index = alpha.index(letter) + key\n",
    "    return alpha[new_letter_index] if new_letter_index <= 25 else alpha[-1 + new_letter_index % 25]"
   ]
  },
  {
   "cell_type": "code",
   "execution_count": null,
   "metadata": {},
   "outputs": [],
   "source": []
  }
 ],
 "metadata": {
  "kernelspec": {
   "display_name": "Python 3",
   "language": "python",
   "name": "python3"
  },
  "language_info": {
   "codemirror_mode": {
    "name": "ipython",
    "version": 3
   },
   "file_extension": ".py",
   "mimetype": "text/x-python",
   "name": "python",
   "nbconvert_exporter": "python",
   "pygments_lexer": "ipython3",
   "version": "3.7.0"
  }
 },
 "nbformat": 4,
 "nbformat_minor": 2
}
