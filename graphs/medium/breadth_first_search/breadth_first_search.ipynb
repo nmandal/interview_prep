{
 "cells": [
  {
   "cell_type": "code",
   "execution_count": 1,
   "metadata": {},
   "outputs": [
    {
     "name": "stdout",
     "output_type": "stream",
     "text": [
      "Writing breadth_first_search.py\n"
     ]
    }
   ],
   "source": [
    "%%writefile breadth_first_search.py\n",
    "# O(V+E) time | O(V) space\n",
    "class Node:\n",
    "    def __init__(self, name):\n",
    "        self.children = []\n",
    "        self.name = name\n",
    "    \n",
    "    def add_child(self, name):\n",
    "        self.children.append(Node(name))\n",
    "        return self\n",
    "    \n",
    "    def breadth_first_search(self, array):\n",
    "        queue = [self]\n",
    "        while len(queue) > 0:\n",
    "            curr = queue.pop(0)\n",
    "            array.append(curr.name)\n",
    "            for child in curr.children:\n",
    "                queue.append(child)\n",
    "        return array"
   ]
  },
  {
   "cell_type": "code",
   "execution_count": null,
   "metadata": {},
   "outputs": [],
   "source": []
  }
 ],
 "metadata": {
  "kernelspec": {
   "display_name": "Python 3",
   "language": "python",
   "name": "python3"
  },
  "language_info": {
   "codemirror_mode": {
    "name": "ipython",
    "version": 3
   },
   "file_extension": ".py",
   "mimetype": "text/x-python",
   "name": "python",
   "nbconvert_exporter": "python",
   "pygments_lexer": "ipython3",
   "version": "3.7.0"
  }
 },
 "nbformat": 4,
 "nbformat_minor": 2
}
