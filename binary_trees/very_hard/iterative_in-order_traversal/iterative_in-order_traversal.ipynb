{
 "cells": [
  {
   "cell_type": "code",
   "execution_count": 2,
   "metadata": {},
   "outputs": [
    {
     "name": "stdout",
     "output_type": "stream",
     "text": [
      "Overwriting iterative_inorder_traversal.py\n"
     ]
    }
   ],
   "source": [
    "%%writefile iterative_inorder_traversal.py\n",
    "# O(n) time | O(1) space\n",
    "def iterative_inorder_traversal(tree, callback):\n",
    "    prev = None\n",
    "    curr = tree\n",
    "    while curr is not None:\n",
    "        if prev is None or prev == curr.parent:\n",
    "            if curr.left is not None:\n",
    "                nex = curr.left\n",
    "            else:\n",
    "                callback(curr)\n",
    "                nex = curr.right if curr.right is not None else curr.parent\n",
    "        elif prev == curr.left:\n",
    "            callback(curr)\n",
    "            nex = curr.right if curr.right is not None else curr.parent\n",
    "            nex = curr.parent\n",
    "        prev = curr\n",
    "        curr = nex\n"
   ]
  },
  {
   "cell_type": "code",
   "execution_count": null,
   "metadata": {},
   "outputs": [],
   "source": []
  }
 ],
 "metadata": {
  "kernelspec": {
   "display_name": "Python 3",
   "language": "python",
   "name": "python3"
  },
  "language_info": {
   "codemirror_mode": {
    "name": "ipython",
    "version": 3
   },
   "file_extension": ".py",
   "mimetype": "text/x-python",
   "name": "python",
   "nbconvert_exporter": "python",
   "pygments_lexer": "ipython3",
   "version": "3.7.0"
  }
 },
 "nbformat": 4,
 "nbformat_minor": 2
}
