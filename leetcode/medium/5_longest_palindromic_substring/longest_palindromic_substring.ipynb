{
 "cells": [
  {
   "cell_type": "code",
   "execution_count": null,
   "metadata": {},
   "outputs": [],
   "source": [
    "%%writefile longest_palindromic_substring.py\n",
    "#  O(n^2) time | O(1) space\n",
    "class Solution:\n",
    "    def longestPalindrome(self, s):\n",
    "        def helper(s, left, right):\n",
    "            while left >= 0 and right < len(s) and s[left] == s[right]:\n",
    "                left -= 1\n",
    "                right += 1\n",
    "            return s[left+1:right]\n",
    "        \"\"\"\n",
    "        :type s: str\n",
    "        :rtype: str\n",
    "        \"\"\"\n",
    "        if not s:\n",
    "            return \"\"\n",
    "        longest = s[0]\n",
    "        for i in range(1, len(s)):\n",
    "            odd = helper(s, i-1, i+1)\n",
    "            even = helper(s, i-1, i)\n",
    "            longest = max(odd, even, longest, key=lambda x: len(x))\n",
    "        return longest"
   ]
  }
 ],
 "metadata": {
  "kernelspec": {
   "display_name": "Python 3",
   "language": "python",
   "name": "python3"
  },
  "language_info": {
   "codemirror_mode": {
    "name": "ipython",
    "version": 3
   },
   "file_extension": ".py",
   "mimetype": "text/x-python",
   "name": "python",
   "nbconvert_exporter": "python",
   "pygments_lexer": "ipython3",
   "version": "3.7.0"
  }
 },
 "nbformat": 4,
 "nbformat_minor": 2
}
