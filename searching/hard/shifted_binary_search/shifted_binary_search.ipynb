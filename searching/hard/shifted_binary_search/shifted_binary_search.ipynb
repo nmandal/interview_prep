{
 "cells": [
  {
   "cell_type": "code",
   "execution_count": 1,
   "metadata": {},
   "outputs": [
    {
     "name": "stdout",
     "output_type": "stream",
     "text": [
      "Writing shifted_binary_search.py\n"
     ]
    }
   ],
   "source": [
    "%%writefile shifted_binary_search.py\n",
    "# O(log n) time | O(log n) space\n",
    "def shifted_binary_search(arr, target):\n",
    "    _shifted_binary_search(arr, target, 0, len(arr) - 1)\n",
    "    \n",
    "def _shifted_binary_search(arr, target, left, right):\n",
    "    if left > right:\n",
    "        return -1\n",
    "    middle = (left + right) // 2\n",
    "    pot_match = arr[middle]\n",
    "    left_num = arr[left]\n",
    "    right_num = arr[right]\n",
    "    if target == pot_match:\n",
    "        return middle\n",
    "    elif left_num <= pot_match:\n",
    "        if target < pot_match and target >= left_num:\n",
    "            return _shifted_binary_search(arr, target, left, middle-1)\n",
    "        return _shifted_binary_search(arr, target, middle+1, right)\n",
    "    else:\n",
    "        if target > pot_match and target <= right_num:\n",
    "            return _shifted_binary_search(arr, target, middle+1, right)\n",
    "        return _shifted_binary_search(arr, target, left, middle-1)\n"
   ]
  },
  {
   "cell_type": "code",
   "execution_count": null,
   "metadata": {},
   "outputs": [],
   "source": []
  }
 ],
 "metadata": {
  "kernelspec": {
   "display_name": "Python 3",
   "language": "python",
   "name": "python3"
  },
  "language_info": {
   "codemirror_mode": {
    "name": "ipython",
    "version": 3
   },
   "file_extension": ".py",
   "mimetype": "text/x-python",
   "name": "python",
   "nbconvert_exporter": "python",
   "pygments_lexer": "ipython3",
   "version": "3.7.0"
  }
 },
 "nbformat": 4,
 "nbformat_minor": 2
}
