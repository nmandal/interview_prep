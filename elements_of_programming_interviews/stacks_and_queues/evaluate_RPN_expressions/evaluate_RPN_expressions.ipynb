{
 "cells": [
  {
   "cell_type": "code",
   "execution_count": 2,
   "metadata": {},
   "outputs": [
    {
     "name": "stdout",
     "output_type": "stream",
     "text": [
      "Writing evaluate_RPN_expressions.py\n"
     ]
    }
   ],
   "source": [
    "%%writefile evaluate_RPN_expressions.py\n",
    "# O(n) time | O(1) space\n",
    "def evaluate(RPN_expression):\n",
    "    intermediate_results = []\n",
    "    DELIMITER = ','\n",
    "    OPERATORS = {\n",
    "        \"+\": lambda y, x: x + y,\n",
    "        \"-\": lambda y, x: x - y,\n",
    "        \"*\": lambda y, x: x * y,\n",
    "        \"/\": lambda y, x: int(x / y)\n",
    "    }\n",
    "    \n",
    "    for token in RPN_expression.split(DELIMITER):\n",
    "        if token in OPERATORS:\n",
    "            intermediate_results.append(OPERATORS[token](intermediate_results.pop(), intermediate_results.pop()))\n",
    "        else: # token is a number\n",
    "            intermediate_results.append(int(token))\n",
    "    return intermediate_results[-1]\n"
   ]
  },
  {
   "cell_type": "code",
   "execution_count": null,
   "metadata": {},
   "outputs": [],
   "source": []
  }
 ],
 "metadata": {
  "kernelspec": {
   "display_name": "Python 3",
   "language": "python",
   "name": "python3"
  },
  "language_info": {
   "codemirror_mode": {
    "name": "ipython",
    "version": 3
   },
   "file_extension": ".py",
   "mimetype": "text/x-python",
   "name": "python",
   "nbconvert_exporter": "python",
   "pygments_lexer": "ipython3",
   "version": "3.7.0"
  }
 },
 "nbformat": 4,
 "nbformat_minor": 2
}
