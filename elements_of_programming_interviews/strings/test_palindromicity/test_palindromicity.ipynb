{
 "cells": [
  {
   "cell_type": "code",
   "execution_count": 3,
   "metadata": {},
   "outputs": [
    {
     "name": "stdout",
     "output_type": "stream",
     "text": [
      "Overwriting is_palindrome.py\n"
     ]
    }
   ],
   "source": [
    "%%writefile is_palindrome.py\n",
    "# O(n) time | O(1) space\n",
    "def is_palindrome(s):\n",
    "    left, right = 0, len(s) - 1\n",
    "    while left < right:\n",
    "        while not s[left].isalnum() and left < right:\n",
    "            left += 1\n",
    "        while not s[right].isalnum() and left < right:\n",
    "            right -= 1\n",
    "        if s[left].lower() != s[right].lower():\n",
    "            return False\n",
    "        left, right = left + 1, right - 1\n",
    "    return True\n"
   ]
  },
  {
   "cell_type": "code",
   "execution_count": null,
   "metadata": {},
   "outputs": [],
   "source": []
  }
 ],
 "metadata": {
  "kernelspec": {
   "display_name": "Python 3",
   "language": "python",
   "name": "python3"
  },
  "language_info": {
   "codemirror_mode": {
    "name": "ipython",
    "version": 3
   },
   "file_extension": ".py",
   "mimetype": "text/x-python",
   "name": "python",
   "nbconvert_exporter": "python",
   "pygments_lexer": "ipython3",
   "version": "3.7.0"
  }
 },
 "nbformat": 4,
 "nbformat_minor": 2
}
