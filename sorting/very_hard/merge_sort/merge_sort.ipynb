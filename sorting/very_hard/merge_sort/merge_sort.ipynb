{
 "cells": [
  {
   "cell_type": "code",
   "execution_count": 4,
   "metadata": {},
   "outputs": [
    {
     "name": "stdout",
     "output_type": "stream",
     "text": [
      "Overwriting merge_sort_naive.py\n"
     ]
    }
   ],
   "source": [
    "%%writefile merge_sort_naive.py\n",
    "# Best: O(n log n) time | O(n log n) space \n",
    "# Average: O(n log n) time | O(n log n) space \n",
    "# Worst: O(n log n) time | O(n log n) space\n",
    "def merge_sort(array):\n",
    "    if len(array) <= 1:\n",
    "        return array\n",
    "    middle_idx = len(array) // 2\n",
    "    left = array[:middle_idx]\n",
    "    right = array[middle_idx:]\n",
    "    return merge_sorted_arrays(merge_sort(left), merge_sort(right))\n",
    "\n",
    "def merge_sorted_arrays(left, right):\n",
    "    sorted_array = [None] * (len(left) + len(right))\n",
    "    i = j = k = 0\n",
    "    while i < len(left) and j < len(right):\n",
    "        if left[i] <= right[j]:\n",
    "            sorted_array[k] = left[i]\n",
    "            i += 1\n",
    "        else:\n",
    "            sorted_array[k] = right[j]\n",
    "            j += 1\n",
    "        k += 1\n",
    "    while i < len(left):\n",
    "        sorted_array[k] = left[i]\n",
    "        i += 1\n",
    "        k += 1\n",
    "    while j < len(right):\n",
    "        sorted_array[k] = right[j]\n",
    "        j += 1\n",
    "        k += 1\n",
    "    return sorted_array\n"
   ]
  },
  {
   "cell_type": "code",
   "execution_count": 5,
   "metadata": {},
   "outputs": [
    {
     "name": "stdout",
     "output_type": "stream",
     "text": [
      "Overwriting merge_sort.py\n"
     ]
    }
   ],
   "source": [
    "%%writefile merge_sort.py\n",
    "# Best: O(n log n) time | O(n) space \n",
    "# Average: O(n log n) time | O(n) space \n",
    "# Worst: O(n log n) time | O(n) space\n",
    "def merge_sort(array):\n",
    "    if len(array) <= 1:\n",
    "        return array\n",
    "    aux_array = array[:]\n",
    "    _merge_sort(array, 0, len(array) - 1, aux_array)\n",
    "    return array\n",
    "\n",
    "def _merge_sort(array, start, end, aux_array):\n",
    "    if start == end:\n",
    "        return\n",
    "    middle = (start + end) // 2\n",
    "    _merge_sort(aux_array, start, middle, array)\n",
    "    _merge_sort(aux_array, middle+1, end, array)\n",
    "    merge(array, start, middle, end, aux_array)\n",
    "\n",
    "def merge(array, start, middle, end, aux_array):\n",
    "    i = start\n",
    "    j = middle + 1\n",
    "    k = start\n",
    "    while i <= middle and j <= end:\n",
    "        if aux_array[i] <= aux_array[j]:\n",
    "            array[k] = aux_array[i]\n",
    "            i += 1\n",
    "        else:\n",
    "            array[k] = aux_array[j]\n",
    "            j += 1\n",
    "        k += 1\n",
    "    while i <= middle:\n",
    "        array[k] = aux_array[i]\n",
    "        i += 1\n",
    "        k += 1\n",
    "    while j <= end:\n",
    "        array[j] = aux_array[j]\n",
    "        j += 1\n",
    "        k += 1\n"
   ]
  },
  {
   "cell_type": "code",
   "execution_count": null,
   "metadata": {},
   "outputs": [],
   "source": []
  }
 ],
 "metadata": {
  "kernelspec": {
   "display_name": "Python 3",
   "language": "python",
   "name": "python3"
  },
  "language_info": {
   "codemirror_mode": {
    "name": "ipython",
    "version": 3
   },
   "file_extension": ".py",
   "mimetype": "text/x-python",
   "name": "python",
   "nbconvert_exporter": "python",
   "pygments_lexer": "ipython3",
   "version": "3.7.0"
  }
 },
 "nbformat": 4,
 "nbformat_minor": 2
}
