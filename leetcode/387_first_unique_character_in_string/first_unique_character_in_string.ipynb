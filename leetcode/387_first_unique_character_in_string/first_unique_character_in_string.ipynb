{
 "cells": [
  {
   "cell_type": "code",
   "execution_count": null,
   "metadata": {},
   "outputs": [],
   "source": [
    "%%writefile first_unique_character_in_string.py\n",
    "# O(N) time | O(1) space\n",
    "class Solution:\n",
    "    def firstUniqChar(self, s):\n",
    "        \"\"\"\n",
    "        :type s: str\n",
    "        :rtype: int\n",
    "        \"\"\"\n",
    "        count = {}\n",
    "        for ch in s:\n",
    "            if ch in count:\n",
    "                count[ch] += 1\n",
    "            else:\n",
    "                count[ch] = 1\n",
    "        \n",
    "        i = 0\n",
    "        for ch in s:\n",
    "            if count[ch] == 1:\n",
    "                return i\n",
    "            else:\n",
    "                i += 1\n",
    "        return -1"
   ]
  }
 ],
 "metadata": {
  "kernelspec": {
   "display_name": "Python 3",
   "language": "python",
   "name": "python3"
  },
  "language_info": {
   "codemirror_mode": {
    "name": "ipython",
    "version": 3
   },
   "file_extension": ".py",
   "mimetype": "text/x-python",
   "name": "python",
   "nbconvert_exporter": "python",
   "pygments_lexer": "ipython3",
   "version": "3.7.0"
  }
 },
 "nbformat": 4,
 "nbformat_minor": 2
}
