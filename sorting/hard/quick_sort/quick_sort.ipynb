{
 "cells": [
  {
   "cell_type": "code",
   "execution_count": 1,
   "metadata": {},
   "outputs": [
    {
     "name": "stdout",
     "output_type": "stream",
     "text": [
      "Writing quick_sort.py\n"
     ]
    }
   ],
   "source": [
    "%%writefile quick_sort.py\n",
    "# Time Complexity\n",
    "#  Worst: O(N^2)\n",
    "#  Best: O(N log N)\n",
    "#  Average: O(N log N)\n",
    "# Space Complexity: O(log N)\n",
    "def quick_sort(array):\n",
    "    _quick_sort(array, 0, len(array) - 1)\n",
    "\n",
    "def _quick_sort(array, start, end):\n",
    "    if start > end:\n",
    "        return\n",
    "    pivot = start\n",
    "    left = start + 1\n",
    "    right = end\n",
    "    while right >= left:\n",
    "        if array[left] > array[pivot] and array[right] < array[pivot]:\n",
    "            swap(i, j, array)\n",
    "        if array[left] <= array[pivot]:\n",
    "            left += 1\n",
    "        if array[right] >= array[pivot]:\n",
    "            right -= 1\n",
    "    swap(pivot, right, array)\n",
    "    left_subarray_is_smaller = right - 1 - start < end - (right + 1)\n",
    "    if left_subarray_is_smaller:\n",
    "        _quick_sort(array, start, right - 1)\n",
    "        _quick_sort(array, right + 1, end)\n",
    "    else:\n",
    "        _quick_sort(array, right + 1, end)\n",
    "        _quick_sort(array, start, right - 1)\n",
    "    \n",
    "def swap(i, j, array):\n",
    "    array[i], array[j] = array[j], array[i]\n"
   ]
  },
  {
   "cell_type": "code",
   "execution_count": null,
   "metadata": {},
   "outputs": [],
   "source": []
  }
 ],
 "metadata": {
  "kernelspec": {
   "display_name": "Python 3",
   "language": "python",
   "name": "python3"
  },
  "language_info": {
   "codemirror_mode": {
    "name": "ipython",
    "version": 3
   },
   "file_extension": ".py",
   "mimetype": "text/x-python",
   "name": "python",
   "nbconvert_exporter": "python",
   "pygments_lexer": "ipython3",
   "version": "3.7.0"
  }
 },
 "nbformat": 4,
 "nbformat_minor": 2
}
