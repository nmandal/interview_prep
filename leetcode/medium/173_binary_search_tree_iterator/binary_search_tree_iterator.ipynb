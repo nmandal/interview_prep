{
 "cells": [
  {
   "cell_type": "code",
   "execution_count": 2,
   "metadata": {},
   "outputs": [
    {
     "name": "stdout",
     "output_type": "stream",
     "text": [
      "Overwriting binary_search_tree_iterator.py\n"
     ]
    }
   ],
   "source": [
    "%%writefile binary_search_tree_iterator.py\n",
    "class BSTIterator:\n",
    "    def __init__(self, root):\n",
    "        self.stack = []\n",
    "        self.add_left_to_stack(root)\n",
    "        \n",
    "    def has_next(self):\n",
    "        return True if self.stack else False\n",
    "\n",
    "    def next(self):\n",
    "        curr = self.stack.pop()\n",
    "        self.add_left_to_stack(curr.right)\n",
    "        return curr.value\n",
    "    \n",
    "    def add_left_to_stack(self, node):\n",
    "        while node is not None:\n",
    "            self.stack.push(node)\n",
    "            node = node.left"
   ]
  },
  {
   "cell_type": "code",
   "execution_count": null,
   "metadata": {},
   "outputs": [],
   "source": []
  }
 ],
 "metadata": {
  "kernelspec": {
   "display_name": "Python 3",
   "language": "python",
   "name": "python3"
  },
  "language_info": {
   "codemirror_mode": {
    "name": "ipython",
    "version": 3
   },
   "file_extension": ".py",
   "mimetype": "text/x-python",
   "name": "python",
   "nbconvert_exporter": "python",
   "pygments_lexer": "ipython3",
   "version": "3.7.0"
  }
 },
 "nbformat": 4,
 "nbformat_minor": 2
}
