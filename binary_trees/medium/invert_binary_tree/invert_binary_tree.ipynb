{
 "cells": [
  {
   "cell_type": "code",
   "execution_count": 2,
   "metadata": {},
   "outputs": [
    {
     "name": "stdout",
     "output_type": "stream",
     "text": [
      "Overwriting invert_binary_tree_iterative.py\n"
     ]
    }
   ],
   "source": [
    "%%writefile invert_binary_tree_iterative.py\n",
    "# O(N) time | O(N) space\n",
    "def invert_binary_tree(tree):\n",
    "    queue = [tree]\n",
    "    while(len(queue)):\n",
    "        curr = queue.pop()\n",
    "        if curr is None:\n",
    "            continue\n",
    "        swap_left_and_right(curr)\n",
    "        queue.append(curr.left)\n",
    "        queue.append(curr.right)\n",
    "\n",
    "def swap_left_and_right(tree):\n",
    "    tree.left, tree.right = tree.right, tree.left"
   ]
  },
  {
   "cell_type": "code",
   "execution_count": 4,
   "metadata": {},
   "outputs": [
    {
     "name": "stdout",
     "output_type": "stream",
     "text": [
      "Writing invert_binary_tree_recursive.py\n"
     ]
    }
   ],
   "source": [
    "%%writefile invert_binary_tree_recursive.py\n",
    "# O(N) time | O(D) space\n",
    "def invert_binary_tree_recursive(tree):\n",
    "    if tree is None:\n",
    "        return\n",
    "    swap_left_and_right(tree)\n",
    "    invert_binary_tree_recursive(tree.left)\n",
    "    invert_binary_tree_recursive(tree.right)\n",
    "\n",
    "    \n",
    "def swap_left_and_right(tree):\n",
    "    tree.left, tree.right = tree.right, tree.left"
   ]
  },
  {
   "cell_type": "code",
   "execution_count": null,
   "metadata": {},
   "outputs": [],
   "source": []
  }
 ],
 "metadata": {
  "kernelspec": {
   "display_name": "Python 3",
   "language": "python",
   "name": "python3"
  },
  "language_info": {
   "codemirror_mode": {
    "name": "ipython",
    "version": 3
   },
   "file_extension": ".py",
   "mimetype": "text/x-python",
   "name": "python",
   "nbconvert_exporter": "python",
   "pygments_lexer": "ipython3",
   "version": "3.7.0"
  }
 },
 "nbformat": 4,
 "nbformat_minor": 2
}
