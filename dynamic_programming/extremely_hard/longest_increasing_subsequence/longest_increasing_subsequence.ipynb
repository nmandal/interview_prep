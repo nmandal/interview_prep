{
 "cells": [
  {
   "cell_type": "code",
   "execution_count": 2,
   "metadata": {},
   "outputs": [
    {
     "name": "stdout",
     "output_type": "stream",
     "text": [
      "Writing longest_increasing_subsequence_slow.py\n"
     ]
    }
   ],
   "source": [
    "%%writefile longest_increasing_subsequence_slow.py\n",
    "# O(n^2) time | O(n) space\n",
    "def longest_increasing_subsequence(array):\n",
    "    seqs = [None for x in array]\n",
    "    lengths = [1 for x in array]\n",
    "    max_length_idx = 0\n",
    "    for i in range(len(array)):\n",
    "        curr = array[i]\n",
    "        for j in range(0, i):\n",
    "            other = array[j]\n",
    "            if other < curr and lengths[j] + 1 >= lengths[i]:\n",
    "                lengths[i] = lengths[j] + 1\n",
    "                seqs[i] = j\n",
    "        if lengths[i] >= lengths[max_length_idx]:\n",
    "            max_length_idx = i\n",
    "    return build_sequence(array, seqs, max_length_idx)\n",
    "\n",
    "def build_sequence(array, seqs, max_length_idx):\n",
    "    seq = []\n",
    "    while max_length_idx is not None:\n",
    "        seq.append(array[max_length_idx])\n",
    "        max_length_idx = seqs[max_length_idx]\n",
    "    return list(reversed(seq))\n"
   ]
  },
  {
   "cell_type": "code",
   "execution_count": 5,
   "metadata": {},
   "outputs": [
    {
     "name": "stdout",
     "output_type": "stream",
     "text": [
      "Overwriting longest_increasing_subsequence.py\n"
     ]
    }
   ],
   "source": [
    "%%writefile longest_increasing_subsequence.py\n",
    "# O(nlogn) time | O(n) space\n",
    "def longest_increasing_subsequence(array):\n",
    "    seqs = [None for x in array]\n",
    "    indicies = [None for x in range(len(array) + 1)]\n",
    "    length = 0\n",
    "    for i, num in enumerate(array):\n",
    "        new_length = binary_search(1, length, indicies, array, num)\n",
    "        seqs[i] = indicies[new_length - 1]\n",
    "        indicies[new_length] = i\n",
    "        length = max(length, new_length)\n",
    "    return build_sequence(array, seqs, indicies[length])\n",
    "    \n",
    "def binary_search(start, end, indicies, array, num):\n",
    "    if start > end:\n",
    "        return start\n",
    "    middle = (start + end) // 2\n",
    "    if array[indicies[middle]] < num:\n",
    "        start = middle + 1\n",
    "    else:\n",
    "        end = middle - 1\n",
    "    return binary_search(start, end, indicies, array, num)\n",
    "\n",
    "def build_sequence(array, seqs, curr):\n",
    "    seq = []\n",
    "    while curr is not None:\n",
    "        seq.append(array[curr])\n",
    "        curr = seqs[curr]\n",
    "    return list(reversed(seq))\n"
   ]
  },
  {
   "cell_type": "code",
   "execution_count": null,
   "metadata": {},
   "outputs": [],
   "source": []
  }
 ],
 "metadata": {
  "kernelspec": {
   "display_name": "Python 3",
   "language": "python",
   "name": "python3"
  },
  "language_info": {
   "codemirror_mode": {
    "name": "ipython",
    "version": 3
   },
   "file_extension": ".py",
   "mimetype": "text/x-python",
   "name": "python",
   "nbconvert_exporter": "python",
   "pygments_lexer": "ipython3",
   "version": "3.7.0"
  }
 },
 "nbformat": 4,
 "nbformat_minor": 2
}
