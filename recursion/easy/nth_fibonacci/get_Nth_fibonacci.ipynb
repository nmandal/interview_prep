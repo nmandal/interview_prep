{
 "cells": [
  {
   "cell_type": "code",
   "execution_count": 6,
   "metadata": {},
   "outputs": [
    {
     "name": "stdout",
     "output_type": "stream",
     "text": [
      "Writing nth_fib_recursive.py\n"
     ]
    }
   ],
   "source": [
    "%%writefile nth_fib_recursive.py\n",
    "# O(2^N) time | O(N) space\n",
    "def getNthFib(n):\n",
    "    if n in [1,2]:\n",
    "        return n-1\n",
    "    return getNthFib(n-1) + getNthFib(n-2)"
   ]
  },
  {
   "cell_type": "code",
   "execution_count": 8,
   "metadata": {},
   "outputs": [
    {
     "name": "stdout",
     "output_type": "stream",
     "text": [
      "Writing nth_fib_memoization.py\n"
     ]
    }
   ],
   "source": [
    "%%writefile nth_fib_memoization.py\n",
    "# O(N) time | O(N) space\n",
    "def getNthFib(n, memoize={1:0, 2:1}):\n",
    "    if n in memoize:\n",
    "        return memoize[n]\n",
    "    memoize[n] = getNthFib(n-1, memoize) + getNthFib(n-2, memoize)\n",
    "    return memoize[n]"
   ]
  },
  {
   "cell_type": "code",
   "execution_count": 9,
   "metadata": {},
   "outputs": [
    {
     "name": "stdout",
     "output_type": "stream",
     "text": [
      "Writing nth_fib_iterative.py\n"
     ]
    }
   ],
   "source": [
    "%%writefile nth_fib_iterative.py\n",
    "# O(N) time | O(1) space\n",
    "def getNthFib(n):\n",
    "    last_two = [0,1]\n",
    "    counter = 3\n",
    "    while counter <= n:\n",
    "        next_fib = last_two[0] + last_two[1]\n",
    "        last_two[0] = last_two[1]\n",
    "        last_two[1] = next_fib\n",
    "        counter += 1\n",
    "    return last_two[1] if n > 1 else last_two[0]"
   ]
  },
  {
   "cell_type": "code",
   "execution_count": null,
   "metadata": {},
   "outputs": [],
   "source": []
  }
 ],
 "metadata": {
  "kernelspec": {
   "display_name": "Python 3",
   "language": "python",
   "name": "python3"
  },
  "language_info": {
   "codemirror_mode": {
    "name": "ipython",
    "version": 3
   },
   "file_extension": ".py",
   "mimetype": "text/x-python",
   "name": "python",
   "nbconvert_exporter": "python",
   "pygments_lexer": "ipython3",
   "version": "3.7.0"
  }
 },
 "nbformat": 4,
 "nbformat_minor": 2
}
