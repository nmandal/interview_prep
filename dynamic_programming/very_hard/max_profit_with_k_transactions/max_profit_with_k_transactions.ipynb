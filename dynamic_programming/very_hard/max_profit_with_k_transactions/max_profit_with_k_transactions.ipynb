{
 "cells": [
  {
   "cell_type": "code",
   "execution_count": 3,
   "metadata": {},
   "outputs": [
    {
     "name": "stdout",
     "output_type": "stream",
     "text": [
      "Overwriting max_profit_with_k_transactions.py\n"
     ]
    }
   ],
   "source": [
    "%%writefile max_profit_with_k_transactions.py\n",
    "# O(nk) time | O(nk) space\n",
    "def max_profit_with_k_transactions(prices, k):\n",
    "    if not len(prices):\n",
    "        return 0\n",
    "    profits = [[0 for d in prices] for t in range(k+1)]\n",
    "    for t in range(1, k+1):\n",
    "        max_sofar = float('-inf')\n",
    "        for d in range(1, len(prices)):\n",
    "            max_sofar = max(max_sofar, profits[t-1][d-1] - prices[d-1])\n",
    "            profits[t][d] = max(profits[t][d-1], max_sofar + prices[d])\n",
    "    return profits[-1][-1]\n"
   ]
  },
  {
   "cell_type": "code",
   "execution_count": 4,
   "metadata": {},
   "outputs": [
    {
     "name": "stdout",
     "output_type": "stream",
     "text": [
      "Overwriting max_profit_with_k_transactions_space_eff.py\n"
     ]
    }
   ],
   "source": [
    "%%writefile max_profit_with_k_transactions_space_eff.py\n",
    "# O(nk) time | O(n) space\n",
    "def max_profit_with_k_transactions(prices, k):\n",
    "    if not len(prices):\n",
    "        return 0\n",
    "    even_profits = [0 for d in prices]\n",
    "    odd_profits = [0 for d in prices]\n",
    "    for t in range(1, k+1):\n",
    "        max_sofar = float('-inf')\n",
    "        if t % 2 == 1:\n",
    "            curr_profits = odd_profits\n",
    "            prev_profits = even_profits\n",
    "        else:\n",
    "            curr_profits = even_profits\n",
    "            prev_profits= odd_profits\n",
    "        for d in range(1, len(prices)):\n",
    "            max_sofar = max(max_sofar, prev_profits[d-1] - prices[d-1])\n",
    "            curr_profits[d] = max(curr_profits[d-1], max_sofar + prices[d])\n",
    "    return even_profits[-1] if k % 2 == 0 else odd_profits[-1]\n"
   ]
  },
  {
   "cell_type": "code",
   "execution_count": null,
   "metadata": {},
   "outputs": [],
   "source": []
  }
 ],
 "metadata": {
  "kernelspec": {
   "display_name": "Python 3",
   "language": "python",
   "name": "python3"
  },
  "language_info": {
   "codemirror_mode": {
    "name": "ipython",
    "version": 3
   },
   "file_extension": ".py",
   "mimetype": "text/x-python",
   "name": "python",
   "nbconvert_exporter": "python",
   "pygments_lexer": "ipython3",
   "version": "3.7.0"
  }
 },
 "nbformat": 4,
 "nbformat_minor": 2
}
