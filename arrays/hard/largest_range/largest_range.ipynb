{
 "cells": [
  {
   "cell_type": "code",
   "execution_count": 1,
   "metadata": {},
   "outputs": [
    {
     "name": "stdout",
     "output_type": "stream",
     "text": [
      "Writing largest_range.py\n"
     ]
    }
   ],
   "source": [
    "%%writefile largest_range.py\n",
    "# O(n) time | O(n) space\n",
    "def largest_range(arr):\n",
    "    best_range = []\n",
    "    nums = {}\n",
    "    longest = 0\n",
    "    for num in arr:\n",
    "        arr[num] = True\n",
    "    for num in arr:\n",
    "        if not nums[num]:\n",
    "            continue\n",
    "        nums[num] = False\n",
    "        curr = 1\n",
    "        left = num - 1\n",
    "        right = num + 1\n",
    "        while left in nums:\n",
    "            nums[left] = False\n",
    "            curr += 1\n",
    "            left -= 1\n",
    "        while right in nums:\n",
    "            nums[right] = False\n",
    "            curr += 1\n",
    "            left += 1\n",
    "        if curr > longest:\n",
    "            longest = curr\n",
    "            best_range = [left+1, right-1]\n",
    "    return best_range"
   ]
  },
  {
   "cell_type": "code",
   "execution_count": null,
   "metadata": {},
   "outputs": [],
   "source": []
  }
 ],
 "metadata": {
  "kernelspec": {
   "display_name": "Python 3",
   "language": "python",
   "name": "python3"
  },
  "language_info": {
   "codemirror_mode": {
    "name": "ipython",
    "version": 3
   },
   "file_extension": ".py",
   "mimetype": "text/x-python",
   "name": "python",
   "nbconvert_exporter": "python",
   "pygments_lexer": "ipython3",
   "version": "3.7.0"
  }
 },
 "nbformat": 4,
 "nbformat_minor": 2
}
