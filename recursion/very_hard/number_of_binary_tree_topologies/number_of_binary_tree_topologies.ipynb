{
 "cells": [
  {
   "cell_type": "code",
   "execution_count": 3,
   "metadata": {},
   "outputs": [
    {
     "name": "stdout",
     "output_type": "stream",
     "text": [
      "Overwriting number_of_binary_tree_topologies_recursive.py\n"
     ]
    }
   ],
   "source": [
    "%%writefile number_of_binary_tree_topologies_recursive.py\n",
    "# O(n^2) time | O(n) space\n",
    "def number_of_binary_tree_topologies(n, cache={0: 1}):\n",
    "    if n in cache:\n",
    "        return cache[n]\n",
    "    number_of_topologies = 0\n",
    "    for left_tree_size in range(n):\n",
    "        right_tree_size = n - 1 - left_tree_size\n",
    "        num_left = number_of_binary_tree_topologies(left_tree_size, cache)\n",
    "        num_right = number_of_binary_tree_topologies(right_tree_size, cache)\n",
    "        number_of_topologies += num_left * num_right\n",
    "    cache[n] = number_of_topologies\n",
    "    return number_of_topologies\n"
   ]
  },
  {
   "cell_type": "code",
   "execution_count": 4,
   "metadata": {},
   "outputs": [
    {
     "name": "stdout",
     "output_type": "stream",
     "text": [
      "Writing number_of_binary_tree_topologies_iterative.py\n"
     ]
    }
   ],
   "source": [
    "%%writefile number_of_binary_tree_topologies_iterative.py\n",
    "# O(n^2) time | O(n) space\n",
    "def number_of_binary_tree_topologies(n):\n",
    "    cache = [1]\n",
    "    for m in range(1, n+1):\n",
    "        number_of_topologies = 0\n",
    "        for left_tree_size in range(m):\n",
    "            right_tree_size = m - 1 - left_tree_size\n",
    "            num_left = cache[left_tree_size]\n",
    "            num_right = cache[right_tree_size]\n",
    "            number_of_topologies += num_left * num_right\n",
    "        cache.append(number_of_topologies)\n",
    "    return number_of_topologies\n"
   ]
  },
  {
   "cell_type": "code",
   "execution_count": null,
   "metadata": {},
   "outputs": [],
   "source": []
  }
 ],
 "metadata": {
  "kernelspec": {
   "display_name": "Python 3",
   "language": "python",
   "name": "python3"
  },
  "language_info": {
   "codemirror_mode": {
    "name": "ipython",
    "version": 3
   },
   "file_extension": ".py",
   "mimetype": "text/x-python",
   "name": "python",
   "nbconvert_exporter": "python",
   "pygments_lexer": "ipython3",
   "version": "3.7.0"
  }
 },
 "nbformat": 4,
 "nbformat_minor": 2
}
