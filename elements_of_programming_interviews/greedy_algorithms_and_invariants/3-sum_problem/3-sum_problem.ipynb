{
 "cells": [
  {
   "cell_type": "code",
   "execution_count": 1,
   "metadata": {},
   "outputs": [
    {
     "name": "stdout",
     "output_type": "stream",
     "text": [
      "Writing three_sum_problem.py\n"
     ]
    }
   ],
   "source": [
    "%%writefile three_sum_problem.py\n",
    "\n",
    "def three_sum(A, t):\n",
    "    def has_two_sum(array, target):\n",
    "        i, j = 0, len(array) - 1\n",
    "        while i <= j:\n",
    "            if array[i] + array[j] == target:\n",
    "                return True\n",
    "            elif array[i] + array[j] < target:\n",
    "                i += 1\n",
    "            else:\n",
    "                j -= 1\n",
    "        return False\n",
    "\n",
    "    A.sort()\n",
    "    # Find if the sum of two numbers in A equals to t-a\n",
    "    return any(has_two_sum(A, t-a) for a in A)\n"
   ]
  },
  {
   "cell_type": "code",
   "execution_count": null,
   "metadata": {},
   "outputs": [],
   "source": []
  }
 ],
 "metadata": {
  "kernelspec": {
   "display_name": "Python 3",
   "language": "python",
   "name": "python3"
  },
  "language_info": {
   "codemirror_mode": {
    "name": "ipython",
    "version": 3
   },
   "file_extension": ".py",
   "mimetype": "text/x-python",
   "name": "python",
   "nbconvert_exporter": "python",
   "pygments_lexer": "ipython3",
   "version": "3.7.0"
  }
 },
 "nbformat": 4,
 "nbformat_minor": 2
}
