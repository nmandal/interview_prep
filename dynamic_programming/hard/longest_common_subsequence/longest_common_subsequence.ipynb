{
 "cells": [
  {
   "cell_type": "code",
   "execution_count": 4,
   "metadata": {
    "scrolled": true
   },
   "outputs": [
    {
     "name": "stdout",
     "output_type": "stream",
     "text": [
      "Overwriting longest_common_subsequence_naive.py\n"
     ]
    }
   ],
   "source": [
    "%%writefile longest_common_subsequence_naive.py\n",
    "# O(nm*min(n,m)) time | O(nm*min(n,m)) space\n",
    "def longest_common_subsequence(str1, str2):\n",
    "    lcs = [[[] for x in range(len(str1) + 1)] for y in range(len(str2) + 1)]\n",
    "    for i in range(1, len(str2) + 1):\n",
    "        for j in range(1, len(str1) + 1):\n",
    "            if str2[i-1] == str1[j-1]:\n",
    "                lcs[i][j] = lcs[i-1][j-1] + [str2[i-1]]\n",
    "            else:\n",
    "                lcs[i][j] - max(lcs[i-1][j], lcs[i][j-1], key=len)\n",
    "    return lcs[-1][-1]\n"
   ]
  },
  {
   "cell_type": "code",
   "execution_count": 7,
   "metadata": {},
   "outputs": [
    {
     "name": "stdout",
     "output_type": "stream",
     "text": [
      "Overwriting longest_common_subsequence.py\n"
     ]
    }
   ],
   "source": [
    "%%writefile longest_common_subsequence.py\n",
    "# O(nm) time | O(nm) space\n",
    "def longest_common_subsequence(str1, str2):\n",
    "    lcs = [[[None, 0, None, None] for x in range(len(str1) + 1)] for y in range(len(str2) + 1)]\n",
    "    for i in range(1, len(str2) + 1):\n",
    "        for j in range(1, len(str1) + 1):\n",
    "            if str2[i-1] == str1[j-1]:\n",
    "                lcs[i][j] = [str2[i-1], lcs[i-1][j-1][1]+1, i-1, j-1]\n",
    "            else:\n",
    "                if lcs[i-1][j][1] > lcs[i][j-1][1]:\n",
    "                    lcs[i][j] = [None, lcs[i-1][j][1], i-1, j]\n",
    "                else:\n",
    "                    lcs[i][j] = [None, lcs[i][j-1][1], i, j-1]\n",
    "    return build_sequence(lcs)\n",
    "\n",
    "def build_sequence(lcs):\n",
    "    seq = []\n",
    "    i = len(lcs) - 1\n",
    "    j = len(lcs[0]) - 1\n",
    "    while i != 0 and j != 0:\n",
    "        curr = lcs[i][j]\n",
    "        if curr[0] is not None:\n",
    "            seq.append(curr[0])\n",
    "        i = curr[2]\n",
    "        j = curr[3]\n",
    "    return list(reversed(seq))\n"
   ]
  },
  {
   "cell_type": "code",
   "execution_count": null,
   "metadata": {},
   "outputs": [],
   "source": []
  }
 ],
 "metadata": {
  "kernelspec": {
   "display_name": "Python 3",
   "language": "python",
   "name": "python3"
  },
  "language_info": {
   "codemirror_mode": {
    "name": "ipython",
    "version": 3
   },
   "file_extension": ".py",
   "mimetype": "text/x-python",
   "name": "python",
   "nbconvert_exporter": "python",
   "pygments_lexer": "ipython3",
   "version": "3.7.0"
  }
 },
 "nbformat": 4,
 "nbformat_minor": 2
}
