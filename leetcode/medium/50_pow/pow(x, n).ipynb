{
 "cells": [
  {
   "cell_type": "code",
   "execution_count": 1,
   "metadata": {},
   "outputs": [
    {
     "name": "stdout",
     "output_type": "stream",
     "text": [
      "Writing pow_recursive.py\n"
     ]
    }
   ],
   "source": [
    "%%writefile pow_recursive.py\n",
    "class Solution:\n",
    "    def myPow(self, x, n):\n",
    "        if not n:\n",
    "            return 1\n",
    "        if n < 0:\n",
    "            return 1 / self.myPow(x, -n)\n",
    "        if n % 2:\n",
    "            return x * self.myPow(x, n-1)\n",
    "        return self.myPow(x*x, n/2)\n"
   ]
  },
  {
   "cell_type": "code",
   "execution_count": 2,
   "metadata": {},
   "outputs": [
    {
     "name": "stdout",
     "output_type": "stream",
     "text": [
      "Writing pow_iterative.py\n"
     ]
    }
   ],
   "source": [
    "%%writefile pow_iterative.py\n",
    "class Solution:\n",
    "    def myPow(self, x, n):\n",
    "        if n < 0:\n",
    "            x = 1 / x\n",
    "            n = -n\n",
    "        pow = 1\n",
    "        while n:\n",
    "            if n & 1:\n",
    "                pow *= x\n",
    "            x *= x\n",
    "            n >>= 1\n",
    "        return pow"
   ]
  },
  {
   "cell_type": "code",
   "execution_count": null,
   "metadata": {},
   "outputs": [],
   "source": []
  }
 ],
 "metadata": {
  "kernelspec": {
   "display_name": "Python 3",
   "language": "python",
   "name": "python3"
  },
  "language_info": {
   "codemirror_mode": {
    "name": "ipython",
    "version": 3
   },
   "file_extension": ".py",
   "mimetype": "text/x-python",
   "name": "python",
   "nbconvert_exporter": "python",
   "pygments_lexer": "ipython3",
   "version": "3.7.0"
  }
 },
 "nbformat": 4,
 "nbformat_minor": 2
}
