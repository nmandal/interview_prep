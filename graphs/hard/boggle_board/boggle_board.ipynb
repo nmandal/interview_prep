{
 "cells": [
  {
   "cell_type": "code",
   "execution_count": 3,
   "metadata": {},
   "outputs": [
    {
     "name": "stdout",
     "output_type": "stream",
     "text": [
      "Overwriting boggle_board.py\n"
     ]
    }
   ],
   "source": [
    "%%writefile boggle_board.py\n",
    "# O(nm*8^s + ws) time | O(nm + ws) space\n",
    "def boggle_board(board, words):\n",
    "    trie = Trie()\n",
    "    for word in words:\n",
    "        trie.add(word)\n",
    "    final_words = {}\n",
    "    visited = [[False for letter in row] for row in board]\n",
    "    for i in range(len(board)):\n",
    "        for j in range(len(board[i])):\n",
    "            explore(i, j, board, trie.root, visited, final_words)\n",
    "    return list(final_words.keys())\n",
    "    \n",
    "def explore(i, j, board, trie_node, visited, final_words):\n",
    "    if visited[i][j]:\n",
    "        return\n",
    "    letter = board[i][j]\n",
    "    if letter not in trie_node:\n",
    "        return\n",
    "    visited[i][j] = True\n",
    "    trie_node = trie_node[letter]\n",
    "    if '*' in trie_node:\n",
    "        final_words[trie_node['*']] = True\n",
    "    neighbors = get_neighbors(i, j, board)\n",
    "    for neighbor in neighbors:\n",
    "        explore(neighbor[0], neighbor[1], board, trie_node, visited, final_words)\n",
    "    visited[i][j] = False\n",
    "\n",
    "def get_neighbors(i, j, board):\n",
    "    neighbors = []\n",
    "    if i > 0 and j > 0:\n",
    "        neighbors.append([i-1, j-1])\n",
    "    if i > 0 and j < len(board[0]) - 1:\n",
    "        neighbors.append([i-1, j+1])\n",
    "    if i < len(board) - 1 and j < len(board[0]) - 1:\n",
    "        neighbors.append([i+1, j+1])\n",
    "    if i < len(board) - 1 and j > 0:\n",
    "        neighbors.append([i+1, j-1])\n",
    "    if i > 0:\n",
    "        neighbors.append([i-1, j])\n",
    "    if i < len(board) - 1:\n",
    "        neighbors.append([i+1, j])\n",
    "    if j > 0:\n",
    "        neighbors.append([i, j-1])\n",
    "    if j < len(board) - 1:\n",
    "        neighbors.append([i, j+1])\n",
    "    return neighbors\n",
    "\n",
    "class Trie:\n",
    "    def __init__(self):\n",
    "        self.root = {}\n",
    "        self.end_symbol = '*'\n",
    "        \n",
    "    def add(self, word):\n",
    "        curr = self.root\n",
    "        for letter in word:\n",
    "            if letter not in curr:\n",
    "                curr[letter] = {}\n",
    "            curr = curr[letter]\n",
    "        curr[self.end_symbol] = word\n"
   ]
  },
  {
   "cell_type": "code",
   "execution_count": null,
   "metadata": {},
   "outputs": [],
   "source": []
  }
 ],
 "metadata": {
  "kernelspec": {
   "display_name": "Python 3",
   "language": "python",
   "name": "python3"
  },
  "language_info": {
   "codemirror_mode": {
    "name": "ipython",
    "version": 3
   },
   "file_extension": ".py",
   "mimetype": "text/x-python",
   "name": "python",
   "nbconvert_exporter": "python",
   "pygments_lexer": "ipython3",
   "version": "3.7.0"
  }
 },
 "nbformat": 4,
 "nbformat_minor": 2
}
