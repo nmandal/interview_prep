{
 "cells": [
  {
   "cell_type": "code",
   "execution_count": 5,
   "metadata": {},
   "outputs": [
    {
     "name": "stdout",
     "output_type": "stream",
     "text": [
      "Overwriting paint_boolean_matrix_BFS.py\n"
     ]
    }
   ],
   "source": [
    "%%writefile paint_boolean_matrix_BFS.py\n",
    "# O(mn) time | O(m+n) space\n",
    "def flip_color(x, y, A):\n",
    "    Coordinate = collections.namedtuple('Coordinate', ('x', 'y'))\n",
    "    color = A[x][y]\n",
    "    q = collections.dequeue([Coordinate(x, y)])\n",
    "    A[x][y] = 1 - A[x][y] # Flips\n",
    "    while q:\n",
    "        x, y = q.popleft()\n",
    "        for d in (0,1), (0,-1), (1,0), (-1,0):\n",
    "            next_x, next_y = x+d[0], y+d[1]\n",
    "            if (0 <= next_x < len(A) and 0 <= next_y < len(A[next_x])) and A[next_x][next_y] == color:\n",
    "                # Flip the color\n",
    "                A[next_x][next_y] = 1 - A[next_x][next_y]\n",
    "                q.append(Coordinate(next_x, next_y))\n"
   ]
  },
  {
   "cell_type": "code",
   "execution_count": 6,
   "metadata": {},
   "outputs": [
    {
     "name": "stdout",
     "output_type": "stream",
     "text": [
      "Overwriting paint_boolean_matrix_DFS.py\n"
     ]
    }
   ],
   "source": [
    "%%writefile paint_boolean_matrix_DFS.py\n",
    "# O(mn) time | O(m+n) space\n",
    "def flip_color(x, y, A):\n",
    "    color = A[x][y]\n",
    "    A[x][y] = 1 - A[x][y]\n",
    "    for d in (0,1), (0,-1), (1,0), (-1,0):\n",
    "        next_x, next_y = x+d[0], y+d[1]\n",
    "        if (0 <= next_x < len(A) and 0 <= next_y < len(A[next_x]) and A[next_x][next_y] == color):\n",
    "            flip_color(next_x, next_y, A)\n",
    "    "
   ]
  },
  {
   "cell_type": "code",
   "execution_count": null,
   "metadata": {},
   "outputs": [],
   "source": []
  }
 ],
 "metadata": {
  "kernelspec": {
   "display_name": "Python 3",
   "language": "python",
   "name": "python3"
  },
  "language_info": {
   "codemirror_mode": {
    "name": "ipython",
    "version": 3
   },
   "file_extension": ".py",
   "mimetype": "text/x-python",
   "name": "python",
   "nbconvert_exporter": "python",
   "pygments_lexer": "ipython3",
   "version": "3.7.0"
  }
 },
 "nbformat": 4,
 "nbformat_minor": 2
}
